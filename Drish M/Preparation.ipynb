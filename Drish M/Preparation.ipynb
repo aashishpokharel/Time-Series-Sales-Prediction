{
 "cells": [
  {
   "cell_type": "markdown",
   "id": "b6374b68",
   "metadata": {},
   "source": [
    "## Problem Definition\n",
    "The task is to forecast the total number of yellow taxi request at a certain time.\n",
    "## Data Source \n",
    "The data is collected from https://www.nyc.gov/site/tlc/about/tlc-trip-record-data.page.\n",
    "It consist of 19 features:\n",
    "\n",
    "1) VendorID A code indicating the TPEP provider that provided the record.\n",
    "\n",
    "2) tpep_pickup_datetime The date and time when the meter was engaged.\n",
    "\n",
    "3) tpep_dropoff_datetime The date and time when the meter was disengaged.\n",
    "\n",
    "4) Passenger_count The number of passengers in the vehicle.\n",
    "\n",
    "5) Trip_distance The elapsed trip distance in miles reported by the taximeter.\n",
    "\n",
    "6) PULocationID TLC Taxi Zone in which the taximeter was engaged\n",
    "\n",
    "7) DOLocationID TLC Taxi Zone in which the taximeter was disengaged\n",
    "\n",
    "8) RateCodeID The final rate code in effect at the end of the trip.\n",
    "\n",
    "9) Store_and_fwd_flag This flag indicates whether the trip record was held in vehicle memory before sending to the vendor, aka “store and forward,”\n",
    "\n",
    "10) Payment_type A numeric code signifying how the passenger paid for the trip.\n",
    "\n",
    "11) Fare_amount The time-and-distance fare calculated by the meter.\n",
    "\n",
    "12) Extra Miscellaneous extras and surcharges. \n",
    "\n",
    "13) MTA_tax $0.50 MTA tax that is automatically triggered based on the metered rate in use.\n",
    "\n",
    "14) Improvement_surcharge $0.30 improvement surcharge assessed trips at the flag drop.\n",
    "\n",
    "15) Tip_amount Tip amount – This field is automatically populated for credit card tips.\n",
    "\n",
    "16) Tolls_amount Total amount of all tolls paid in trip.\n",
    "\n",
    "17) Total_amount The total amount charged to passengers. Does not include cash tips.\n",
    "\n",
    "18) Congestion_Surcharge Total amount collected in trip for NYS congestion surcharge.\n",
    "\n",
    "19) Airport_fee $1.25 for pick up only at LaGuardia and John F. Kennedy Airports"
   ]
  },
  {
   "cell_type": "code",
   "execution_count": 7,
   "id": "46650edd",
   "metadata": {},
   "outputs": [],
   "source": [
    "import pandas as pd\n",
    "import numpy as np\n",
    "\n",
    "import matplotlib \n",
    "import matplotlib.pyplot as plt"
   ]
  },
  {
   "cell_type": "code",
   "execution_count": 8,
   "id": "c64f4be3",
   "metadata": {},
   "outputs": [],
   "source": [
    "df = pd.read_parquet('yellow_tripdata_2022-11.parquet')"
   ]
  },
  {
   "cell_type": "code",
   "execution_count": 9,
   "id": "1a2fcefc",
   "metadata": {},
   "outputs": [
    {
     "data": {
      "text/plain": [
       "(3252717, 19)"
      ]
     },
     "execution_count": 9,
     "metadata": {},
     "output_type": "execute_result"
    }
   ],
   "source": [
    "df.shape"
   ]
  },
  {
   "cell_type": "code",
   "execution_count": 10,
   "id": "a23a4ca6",
   "metadata": {},
   "outputs": [
    {
     "data": {
      "text/html": [
       "<div>\n",
       "<style scoped>\n",
       "    .dataframe tbody tr th:only-of-type {\n",
       "        vertical-align: middle;\n",
       "    }\n",
       "\n",
       "    .dataframe tbody tr th {\n",
       "        vertical-align: top;\n",
       "    }\n",
       "\n",
       "    .dataframe thead th {\n",
       "        text-align: right;\n",
       "    }\n",
       "</style>\n",
       "<table border=\"1\" class=\"dataframe\">\n",
       "  <thead>\n",
       "    <tr style=\"text-align: right;\">\n",
       "      <th></th>\n",
       "      <th>VendorID</th>\n",
       "      <th>tpep_pickup_datetime</th>\n",
       "      <th>tpep_dropoff_datetime</th>\n",
       "      <th>passenger_count</th>\n",
       "      <th>trip_distance</th>\n",
       "      <th>RatecodeID</th>\n",
       "      <th>store_and_fwd_flag</th>\n",
       "      <th>PULocationID</th>\n",
       "      <th>DOLocationID</th>\n",
       "      <th>payment_type</th>\n",
       "      <th>fare_amount</th>\n",
       "      <th>extra</th>\n",
       "      <th>mta_tax</th>\n",
       "      <th>tip_amount</th>\n",
       "      <th>tolls_amount</th>\n",
       "      <th>improvement_surcharge</th>\n",
       "      <th>total_amount</th>\n",
       "      <th>congestion_surcharge</th>\n",
       "      <th>airport_fee</th>\n",
       "    </tr>\n",
       "  </thead>\n",
       "  <tbody>\n",
       "    <tr>\n",
       "      <th>0</th>\n",
       "      <td>1</td>\n",
       "      <td>2022-11-01 00:51:22</td>\n",
       "      <td>2022-11-01 00:56:24</td>\n",
       "      <td>1.0</td>\n",
       "      <td>0.6</td>\n",
       "      <td>1.0</td>\n",
       "      <td>N</td>\n",
       "      <td>151</td>\n",
       "      <td>151</td>\n",
       "      <td>2</td>\n",
       "      <td>4.5</td>\n",
       "      <td>0.5</td>\n",
       "      <td>0.5</td>\n",
       "      <td>0.00</td>\n",
       "      <td>0.0</td>\n",
       "      <td>0.3</td>\n",
       "      <td>5.80</td>\n",
       "      <td>0.0</td>\n",
       "      <td>0.0</td>\n",
       "    </tr>\n",
       "    <tr>\n",
       "      <th>1</th>\n",
       "      <td>1</td>\n",
       "      <td>2022-11-01 00:39:43</td>\n",
       "      <td>2022-11-01 00:48:44</td>\n",
       "      <td>0.0</td>\n",
       "      <td>1.8</td>\n",
       "      <td>1.0</td>\n",
       "      <td>N</td>\n",
       "      <td>90</td>\n",
       "      <td>79</td>\n",
       "      <td>1</td>\n",
       "      <td>8.5</td>\n",
       "      <td>3.0</td>\n",
       "      <td>0.5</td>\n",
       "      <td>3.05</td>\n",
       "      <td>0.0</td>\n",
       "      <td>0.3</td>\n",
       "      <td>15.35</td>\n",
       "      <td>2.5</td>\n",
       "      <td>0.0</td>\n",
       "    </tr>\n",
       "    <tr>\n",
       "      <th>2</th>\n",
       "      <td>1</td>\n",
       "      <td>2022-11-01 00:55:01</td>\n",
       "      <td>2022-11-01 01:01:35</td>\n",
       "      <td>0.0</td>\n",
       "      <td>2.0</td>\n",
       "      <td>1.0</td>\n",
       "      <td>N</td>\n",
       "      <td>137</td>\n",
       "      <td>141</td>\n",
       "      <td>1</td>\n",
       "      <td>8.0</td>\n",
       "      <td>3.0</td>\n",
       "      <td>0.5</td>\n",
       "      <td>2.36</td>\n",
       "      <td>0.0</td>\n",
       "      <td>0.3</td>\n",
       "      <td>14.16</td>\n",
       "      <td>2.5</td>\n",
       "      <td>0.0</td>\n",
       "    </tr>\n",
       "    <tr>\n",
       "      <th>3</th>\n",
       "      <td>1</td>\n",
       "      <td>2022-11-01 00:24:49</td>\n",
       "      <td>2022-11-01 00:31:04</td>\n",
       "      <td>2.0</td>\n",
       "      <td>1.0</td>\n",
       "      <td>1.0</td>\n",
       "      <td>N</td>\n",
       "      <td>158</td>\n",
       "      <td>113</td>\n",
       "      <td>1</td>\n",
       "      <td>6.0</td>\n",
       "      <td>3.0</td>\n",
       "      <td>0.5</td>\n",
       "      <td>0.00</td>\n",
       "      <td>0.0</td>\n",
       "      <td>0.3</td>\n",
       "      <td>9.80</td>\n",
       "      <td>2.5</td>\n",
       "      <td>0.0</td>\n",
       "    </tr>\n",
       "    <tr>\n",
       "      <th>4</th>\n",
       "      <td>1</td>\n",
       "      <td>2022-11-01 00:37:32</td>\n",
       "      <td>2022-11-01 00:42:23</td>\n",
       "      <td>2.0</td>\n",
       "      <td>0.8</td>\n",
       "      <td>1.0</td>\n",
       "      <td>N</td>\n",
       "      <td>249</td>\n",
       "      <td>158</td>\n",
       "      <td>2</td>\n",
       "      <td>5.5</td>\n",
       "      <td>3.0</td>\n",
       "      <td>0.5</td>\n",
       "      <td>0.00</td>\n",
       "      <td>0.0</td>\n",
       "      <td>0.3</td>\n",
       "      <td>9.30</td>\n",
       "      <td>2.5</td>\n",
       "      <td>0.0</td>\n",
       "    </tr>\n",
       "  </tbody>\n",
       "</table>\n",
       "</div>"
      ],
      "text/plain": [
       "   VendorID tpep_pickup_datetime tpep_dropoff_datetime  passenger_count  \\\n",
       "0         1  2022-11-01 00:51:22   2022-11-01 00:56:24              1.0   \n",
       "1         1  2022-11-01 00:39:43   2022-11-01 00:48:44              0.0   \n",
       "2         1  2022-11-01 00:55:01   2022-11-01 01:01:35              0.0   \n",
       "3         1  2022-11-01 00:24:49   2022-11-01 00:31:04              2.0   \n",
       "4         1  2022-11-01 00:37:32   2022-11-01 00:42:23              2.0   \n",
       "\n",
       "   trip_distance  RatecodeID store_and_fwd_flag  PULocationID  DOLocationID  \\\n",
       "0            0.6         1.0                  N           151           151   \n",
       "1            1.8         1.0                  N            90            79   \n",
       "2            2.0         1.0                  N           137           141   \n",
       "3            1.0         1.0                  N           158           113   \n",
       "4            0.8         1.0                  N           249           158   \n",
       "\n",
       "   payment_type  fare_amount  extra  mta_tax  tip_amount  tolls_amount  \\\n",
       "0             2          4.5    0.5      0.5        0.00           0.0   \n",
       "1             1          8.5    3.0      0.5        3.05           0.0   \n",
       "2             1          8.0    3.0      0.5        2.36           0.0   \n",
       "3             1          6.0    3.0      0.5        0.00           0.0   \n",
       "4             2          5.5    3.0      0.5        0.00           0.0   \n",
       "\n",
       "   improvement_surcharge  total_amount  congestion_surcharge  airport_fee  \n",
       "0                    0.3          5.80                   0.0          0.0  \n",
       "1                    0.3         15.35                   2.5          0.0  \n",
       "2                    0.3         14.16                   2.5          0.0  \n",
       "3                    0.3          9.80                   2.5          0.0  \n",
       "4                    0.3          9.30                   2.5          0.0  "
      ]
     },
     "execution_count": 10,
     "metadata": {},
     "output_type": "execute_result"
    }
   ],
   "source": [
    "df.head()"
   ]
  },
  {
   "cell_type": "markdown",
   "id": "6b62ba98",
   "metadata": {},
   "source": [
    "## Considering only pickup time and location id"
   ]
  },
  {
   "cell_type": "code",
   "execution_count": 11,
   "id": "34e0a06a",
   "metadata": {},
   "outputs": [
    {
     "data": {
      "text/html": [
       "<div>\n",
       "<style scoped>\n",
       "    .dataframe tbody tr th:only-of-type {\n",
       "        vertical-align: middle;\n",
       "    }\n",
       "\n",
       "    .dataframe tbody tr th {\n",
       "        vertical-align: top;\n",
       "    }\n",
       "\n",
       "    .dataframe thead th {\n",
       "        text-align: right;\n",
       "    }\n",
       "</style>\n",
       "<table border=\"1\" class=\"dataframe\">\n",
       "  <thead>\n",
       "    <tr style=\"text-align: right;\">\n",
       "      <th></th>\n",
       "      <th>tpep_pickup_datetime</th>\n",
       "      <th>PULocationID</th>\n",
       "    </tr>\n",
       "  </thead>\n",
       "  <tbody>\n",
       "    <tr>\n",
       "      <th>0</th>\n",
       "      <td>2022-11-01 00:51:22</td>\n",
       "      <td>151</td>\n",
       "    </tr>\n",
       "    <tr>\n",
       "      <th>1</th>\n",
       "      <td>2022-11-01 00:39:43</td>\n",
       "      <td>90</td>\n",
       "    </tr>\n",
       "    <tr>\n",
       "      <th>2</th>\n",
       "      <td>2022-11-01 00:55:01</td>\n",
       "      <td>137</td>\n",
       "    </tr>\n",
       "    <tr>\n",
       "      <th>3</th>\n",
       "      <td>2022-11-01 00:24:49</td>\n",
       "      <td>158</td>\n",
       "    </tr>\n",
       "    <tr>\n",
       "      <th>4</th>\n",
       "      <td>2022-11-01 00:37:32</td>\n",
       "      <td>249</td>\n",
       "    </tr>\n",
       "  </tbody>\n",
       "</table>\n",
       "</div>"
      ],
      "text/plain": [
       "  tpep_pickup_datetime  PULocationID\n",
       "0  2022-11-01 00:51:22           151\n",
       "1  2022-11-01 00:39:43            90\n",
       "2  2022-11-01 00:55:01           137\n",
       "3  2022-11-01 00:24:49           158\n",
       "4  2022-11-01 00:37:32           249"
      ]
     },
     "execution_count": 11,
     "metadata": {},
     "output_type": "execute_result"
    }
   ],
   "source": [
    "data=df[['tpep_pickup_datetime','PULocationID']]\n",
    "data.head()"
   ]
  },
  {
   "cell_type": "code",
   "execution_count": 14,
   "id": "505977f9",
   "metadata": {},
   "outputs": [
    {
     "name": "stdout",
     "output_type": "stream",
     "text": [
      "Number of unique location: 260\n"
     ]
    }
   ],
   "source": [
    "print(\"Number of unique location: \"+str(len(data.PULocationID.unique())))\n"
   ]
  },
  {
   "cell_type": "code",
   "execution_count": 15,
   "id": "d6dc2552",
   "metadata": {},
   "outputs": [
    {
     "name": "stderr",
     "output_type": "stream",
     "text": [
      "C:\\Users\\deepa\\AppData\\Local\\Temp\\ipykernel_6264\\2396716073.py:1: SettingWithCopyWarning: \n",
      "A value is trying to be set on a copy of a slice from a DataFrame.\n",
      "Try using .loc[row_indexer,col_indexer] = value instead\n",
      "\n",
      "See the caveats in the documentation: https://pandas.pydata.org/pandas-docs/stable/user_guide/indexing.html#returning-a-view-versus-a-copy\n",
      "  data['total_request']=1\n"
     ]
    }
   ],
   "source": [
    "data['total_request']=1\n",
    "data.set_index('tpep_pickup_datetime',inplace=True)\n"
   ]
  },
  {
   "cell_type": "code",
   "execution_count": 16,
   "id": "6de38ef8",
   "metadata": {},
   "outputs": [],
   "source": [
    "data=data.loc['2022-11-01':'2022-11-30']\n"
   ]
  },
  {
   "cell_type": "code",
   "execution_count": 17,
   "id": "d390e6f6",
   "metadata": {},
   "outputs": [
    {
     "data": {
      "text/html": [
       "<div>\n",
       "<style scoped>\n",
       "    .dataframe tbody tr th:only-of-type {\n",
       "        vertical-align: middle;\n",
       "    }\n",
       "\n",
       "    .dataframe tbody tr th {\n",
       "        vertical-align: top;\n",
       "    }\n",
       "\n",
       "    .dataframe thead th {\n",
       "        text-align: right;\n",
       "    }\n",
       "</style>\n",
       "<table border=\"1\" class=\"dataframe\">\n",
       "  <thead>\n",
       "    <tr style=\"text-align: right;\">\n",
       "      <th></th>\n",
       "      <th>PULocationID</th>\n",
       "      <th>total_request</th>\n",
       "    </tr>\n",
       "    <tr>\n",
       "      <th>tpep_pickup_datetime</th>\n",
       "      <th></th>\n",
       "      <th></th>\n",
       "    </tr>\n",
       "  </thead>\n",
       "  <tbody>\n",
       "    <tr>\n",
       "      <th>2022-11-01 00:00:00</th>\n",
       "      <td>132</td>\n",
       "      <td>1</td>\n",
       "    </tr>\n",
       "    <tr>\n",
       "      <th>2022-11-01 00:00:03</th>\n",
       "      <td>107</td>\n",
       "      <td>1</td>\n",
       "    </tr>\n",
       "    <tr>\n",
       "      <th>2022-11-01 00:00:06</th>\n",
       "      <td>138</td>\n",
       "      <td>1</td>\n",
       "    </tr>\n",
       "    <tr>\n",
       "      <th>2022-11-01 00:00:06</th>\n",
       "      <td>100</td>\n",
       "      <td>1</td>\n",
       "    </tr>\n",
       "    <tr>\n",
       "      <th>2022-11-01 00:00:06</th>\n",
       "      <td>170</td>\n",
       "      <td>1</td>\n",
       "    </tr>\n",
       "    <tr>\n",
       "      <th>...</th>\n",
       "      <td>...</td>\n",
       "      <td>...</td>\n",
       "    </tr>\n",
       "    <tr>\n",
       "      <th>2022-11-30 23:59:52</th>\n",
       "      <td>138</td>\n",
       "      <td>1</td>\n",
       "    </tr>\n",
       "    <tr>\n",
       "      <th>2022-11-30 23:59:55</th>\n",
       "      <td>79</td>\n",
       "      <td>1</td>\n",
       "    </tr>\n",
       "    <tr>\n",
       "      <th>2022-11-30 23:59:55</th>\n",
       "      <td>162</td>\n",
       "      <td>1</td>\n",
       "    </tr>\n",
       "    <tr>\n",
       "      <th>2022-11-30 23:59:57</th>\n",
       "      <td>163</td>\n",
       "      <td>1</td>\n",
       "    </tr>\n",
       "    <tr>\n",
       "      <th>2022-11-30 23:59:59</th>\n",
       "      <td>142</td>\n",
       "      <td>1</td>\n",
       "    </tr>\n",
       "  </tbody>\n",
       "</table>\n",
       "<p>3252620 rows × 2 columns</p>\n",
       "</div>"
      ],
      "text/plain": [
       "                      PULocationID  total_request\n",
       "tpep_pickup_datetime                             \n",
       "2022-11-01 00:00:00            132              1\n",
       "2022-11-01 00:00:03            107              1\n",
       "2022-11-01 00:00:06            138              1\n",
       "2022-11-01 00:00:06            100              1\n",
       "2022-11-01 00:00:06            170              1\n",
       "...                            ...            ...\n",
       "2022-11-30 23:59:52            138              1\n",
       "2022-11-30 23:59:55             79              1\n",
       "2022-11-30 23:59:55            162              1\n",
       "2022-11-30 23:59:57            163              1\n",
       "2022-11-30 23:59:59            142              1\n",
       "\n",
       "[3252620 rows x 2 columns]"
      ]
     },
     "execution_count": 17,
     "metadata": {},
     "output_type": "execute_result"
    }
   ],
   "source": [
    "data.sort_values('tpep_pickup_datetime')"
   ]
  },
  {
   "cell_type": "code",
   "execution_count": 20,
   "id": "eb8d015c",
   "metadata": {
    "scrolled": true
   },
   "outputs": [],
   "source": [
    "agg_data=data.groupby(['PULocationID'])"
   ]
  },
  {
   "cell_type": "code",
   "execution_count": 21,
   "id": "a0193d5b",
   "metadata": {},
   "outputs": [],
   "source": [
    "import seaborn as sns"
   ]
  },
  {
   "cell_type": "code",
   "execution_count": 22,
   "id": "e0c41743",
   "metadata": {},
   "outputs": [
    {
     "data": {
      "text/html": [
       "<div>\n",
       "<style scoped>\n",
       "    .dataframe tbody tr th:only-of-type {\n",
       "        vertical-align: middle;\n",
       "    }\n",
       "\n",
       "    .dataframe tbody tr th {\n",
       "        vertical-align: top;\n",
       "    }\n",
       "\n",
       "    .dataframe thead th {\n",
       "        text-align: right;\n",
       "    }\n",
       "</style>\n",
       "<table border=\"1\" class=\"dataframe\">\n",
       "  <thead>\n",
       "    <tr style=\"text-align: right;\">\n",
       "      <th></th>\n",
       "      <th>total_request</th>\n",
       "    </tr>\n",
       "    <tr>\n",
       "      <th>PULocationID</th>\n",
       "      <th></th>\n",
       "    </tr>\n",
       "  </thead>\n",
       "  <tbody>\n",
       "    <tr>\n",
       "      <th>1</th>\n",
       "      <td>879</td>\n",
       "    </tr>\n",
       "    <tr>\n",
       "      <th>2</th>\n",
       "      <td>2</td>\n",
       "    </tr>\n",
       "    <tr>\n",
       "      <th>3</th>\n",
       "      <td>49</td>\n",
       "    </tr>\n",
       "    <tr>\n",
       "      <th>4</th>\n",
       "      <td>3713</td>\n",
       "    </tr>\n",
       "    <tr>\n",
       "      <th>5</th>\n",
       "      <td>43</td>\n",
       "    </tr>\n",
       "    <tr>\n",
       "      <th>...</th>\n",
       "      <td>...</td>\n",
       "    </tr>\n",
       "    <tr>\n",
       "      <th>261</th>\n",
       "      <td>15966</td>\n",
       "    </tr>\n",
       "    <tr>\n",
       "      <th>262</th>\n",
       "      <td>43966</td>\n",
       "    </tr>\n",
       "    <tr>\n",
       "      <th>263</th>\n",
       "      <td>68654</td>\n",
       "    </tr>\n",
       "    <tr>\n",
       "      <th>264</th>\n",
       "      <td>46970</td>\n",
       "    </tr>\n",
       "    <tr>\n",
       "      <th>265</th>\n",
       "      <td>6680</td>\n",
       "    </tr>\n",
       "  </tbody>\n",
       "</table>\n",
       "<p>260 rows × 1 columns</p>\n",
       "</div>"
      ],
      "text/plain": [
       "              total_request\n",
       "PULocationID               \n",
       "1                       879\n",
       "2                         2\n",
       "3                        49\n",
       "4                      3713\n",
       "5                        43\n",
       "...                     ...\n",
       "261                   15966\n",
       "262                   43966\n",
       "263                   68654\n",
       "264                   46970\n",
       "265                    6680\n",
       "\n",
       "[260 rows x 1 columns]"
      ]
     },
     "execution_count": 22,
     "metadata": {},
     "output_type": "execute_result"
    }
   ],
   "source": [
    "agg_data.count()"
   ]
  },
  {
   "cell_type": "code",
   "execution_count": 24,
   "id": "049fd407",
   "metadata": {},
   "outputs": [
    {
     "data": {
      "text/plain": [
       "[Text(0.5, 1.0, 'Top 5 location with maximum request')]"
      ]
     },
     "execution_count": 24,
     "metadata": {},
     "output_type": "execute_result"
    },
    {
     "data": {
      "image/png": "[encoded data removed]",
      "text/plain": [
       "<Figure size 432x288 with 1 Axes>"
      ]
     },
     "metadata": {
      "needs_background": "light"
     },
     "output_type": "display_data"
    }
   ],
   "source": [
    "sns.barplot(data=agg_data.count().reset_index().sort_values(by=\"total_request\").tail(),x=\"PULocationID\",y=\"total_request\").set(title=\"Top 5 location with maximum request\")"
   ]
  },
  {
   "cell_type": "code",
   "execution_count": 25,
   "id": "6073db89",
   "metadata": {},
   "outputs": [
    {
     "data": {
      "text/html": [
       "<div>\n",
       "<style scoped>\n",
       "    .dataframe tbody tr th:only-of-type {\n",
       "        vertical-align: middle;\n",
       "    }\n",
       "\n",
       "    .dataframe tbody tr th {\n",
       "        vertical-align: top;\n",
       "    }\n",
       "\n",
       "    .dataframe thead th {\n",
       "        text-align: right;\n",
       "    }\n",
       "</style>\n",
       "<table border=\"1\" class=\"dataframe\">\n",
       "  <thead>\n",
       "    <tr style=\"text-align: right;\">\n",
       "      <th></th>\n",
       "      <th>PULocationID</th>\n",
       "      <th>total_request</th>\n",
       "    </tr>\n",
       "  </thead>\n",
       "  <tbody>\n",
       "    <tr>\n",
       "      <th>255</th>\n",
       "      <td>142</td>\n",
       "      <td>112136</td>\n",
       "    </tr>\n",
       "    <tr>\n",
       "      <th>256</th>\n",
       "      <td>161</td>\n",
       "      <td>140024</td>\n",
       "    </tr>\n",
       "    <tr>\n",
       "      <th>257</th>\n",
       "      <td>236</td>\n",
       "      <td>142769</td>\n",
       "    </tr>\n",
       "    <tr>\n",
       "      <th>258</th>\n",
       "      <td>237</td>\n",
       "      <td>163881</td>\n",
       "    </tr>\n",
       "    <tr>\n",
       "      <th>259</th>\n",
       "      <td>132</td>\n",
       "      <td>164950</td>\n",
       "    </tr>\n",
       "  </tbody>\n",
       "</table>\n",
       "</div>"
      ],
      "text/plain": [
       "     PULocationID  total_request\n",
       "255           142         112136\n",
       "256           161         140024\n",
       "257           236         142769\n",
       "258           237         163881\n",
       "259           132         164950"
      ]
     },
     "execution_count": 25,
     "metadata": {},
     "output_type": "execute_result"
    }
   ],
   "source": [
    "agg_data.count().sort_values(by=\"total_request\").reset_index().tail()"
   ]
  },
  {
   "cell_type": "markdown",
   "id": "cbb02d20",
   "metadata": {},
   "source": [
    "## Resampling data in hourly interval by Location ID"
   ]
  },
  {
   "cell_type": "code",
   "execution_count": 26,
   "id": "6dfb16d5",
   "metadata": {},
   "outputs": [],
   "source": [
    "final=data.groupby('PULocationID').resample('1H')[['total_request']].sum()"
   ]
  },
  {
   "cell_type": "code",
   "execution_count": 27,
   "id": "34428c4f",
   "metadata": {},
   "outputs": [],
   "source": [
    "final.reset_index(inplace=True)"
   ]
  },
  {
   "cell_type": "code",
   "execution_count": 35,
   "id": "e23ab446",
   "metadata": {},
   "outputs": [
    {
     "name": "stderr",
     "output_type": "stream",
     "text": [
      "C:\\Users\\deepa\\AppData\\Local\\Temp\\ipykernel_6264\\2540028487.py:3: FutureWarning: Argument `closed` is deprecated in favor of `inclusive`.\n",
      "  {'tpep_pickup_datetime': pd.date_range('2022-11-01', '2022-12-01', freq='1H', closed='left')}\n"
     ]
    }
   ],
   "source": [
    "#creating dataframe with 1 month date with hourly interval\n",
    "missing_value= pd.DataFrame(\n",
    "        {'tpep_pickup_datetime': pd.date_range('2022-11-01', '2022-12-01', freq='1H', closed='left')}\n",
    "     )"
   ]
  },
  {
   "cell_type": "code",
   "execution_count": 30,
   "id": "92c993f8",
   "metadata": {},
   "outputs": [
    {
     "data": {
      "text/html": [
       "<div>\n",
       "<style scoped>\n",
       "    .dataframe tbody tr th:only-of-type {\n",
       "        vertical-align: middle;\n",
       "    }\n",
       "\n",
       "    .dataframe tbody tr th {\n",
       "        vertical-align: top;\n",
       "    }\n",
       "\n",
       "    .dataframe thead th {\n",
       "        text-align: right;\n",
       "    }\n",
       "</style>\n",
       "<table border=\"1\" class=\"dataframe\">\n",
       "  <thead>\n",
       "    <tr style=\"text-align: right;\">\n",
       "      <th></th>\n",
       "      <th>PULocationID</th>\n",
       "    </tr>\n",
       "  </thead>\n",
       "  <tbody>\n",
       "    <tr>\n",
       "      <th>0</th>\n",
       "      <td>151</td>\n",
       "    </tr>\n",
       "    <tr>\n",
       "      <th>1</th>\n",
       "      <td>90</td>\n",
       "    </tr>\n",
       "    <tr>\n",
       "      <th>2</th>\n",
       "      <td>137</td>\n",
       "    </tr>\n",
       "    <tr>\n",
       "      <th>3</th>\n",
       "      <td>158</td>\n",
       "    </tr>\n",
       "    <tr>\n",
       "      <th>4</th>\n",
       "      <td>249</td>\n",
       "    </tr>\n",
       "  </tbody>\n",
       "</table>\n",
       "</div>"
      ],
      "text/plain": [
       "   PULocationID\n",
       "0           151\n",
       "1            90\n",
       "2           137\n",
       "3           158\n",
       "4           249"
      ]
     },
     "execution_count": 30,
     "metadata": {},
     "output_type": "execute_result"
    }
   ],
   "source": [
    "# creating dataframe using unique location id\n",
    "category=pd.DataFrame(data.PULocationID.unique(),columns=['PULocationID'])\n",
    "category.head()\n"
   ]
  },
  {
   "cell_type": "markdown",
   "id": "c92da35d",
   "metadata": {},
   "source": [
    "# # Creating cleaned final data"
   ]
  },
  {
   "cell_type": "code",
   "execution_count": 37,
   "id": "7bf43367",
   "metadata": {},
   "outputs": [],
   "source": [
    "# cross product of time and location to create all values for each unique location idea and time stamp\n",
    "# 260*30*24 = 187200\n",
    "all_values=missing_value.merge(category,how=\"cross\")"
   ]
  },
  {
   "cell_type": "code",
   "execution_count": 38,
   "id": "7bc43bfb",
   "metadata": {},
   "outputs": [
    {
     "data": {
      "text/html": [
       "<div>\n",
       "<style scoped>\n",
       "    .dataframe tbody tr th:only-of-type {\n",
       "        vertical-align: middle;\n",
       "    }\n",
       "\n",
       "    .dataframe tbody tr th {\n",
       "        vertical-align: top;\n",
       "    }\n",
       "\n",
       "    .dataframe thead th {\n",
       "        text-align: right;\n",
       "    }\n",
       "</style>\n",
       "<table border=\"1\" class=\"dataframe\">\n",
       "  <thead>\n",
       "    <tr style=\"text-align: right;\">\n",
       "      <th></th>\n",
       "      <th>tpep_pickup_datetime</th>\n",
       "      <th>PULocationID</th>\n",
       "    </tr>\n",
       "  </thead>\n",
       "  <tbody>\n",
       "    <tr>\n",
       "      <th>0</th>\n",
       "      <td>2022-11-01 00:00:00</td>\n",
       "      <td>151</td>\n",
       "    </tr>\n",
       "    <tr>\n",
       "      <th>1</th>\n",
       "      <td>2022-11-01 00:00:00</td>\n",
       "      <td>90</td>\n",
       "    </tr>\n",
       "    <tr>\n",
       "      <th>2</th>\n",
       "      <td>2022-11-01 00:00:00</td>\n",
       "      <td>137</td>\n",
       "    </tr>\n",
       "    <tr>\n",
       "      <th>3</th>\n",
       "      <td>2022-11-01 00:00:00</td>\n",
       "      <td>158</td>\n",
       "    </tr>\n",
       "    <tr>\n",
       "      <th>4</th>\n",
       "      <td>2022-11-01 00:00:00</td>\n",
       "      <td>249</td>\n",
       "    </tr>\n",
       "    <tr>\n",
       "      <th>...</th>\n",
       "      <td>...</td>\n",
       "      <td>...</td>\n",
       "    </tr>\n",
       "    <tr>\n",
       "      <th>187195</th>\n",
       "      <td>2022-11-30 23:00:00</td>\n",
       "      <td>187</td>\n",
       "    </tr>\n",
       "    <tr>\n",
       "      <th>187196</th>\n",
       "      <td>2022-11-30 23:00:00</td>\n",
       "      <td>59</td>\n",
       "    </tr>\n",
       "    <tr>\n",
       "      <th>187197</th>\n",
       "      <td>2022-11-30 23:00:00</td>\n",
       "      <td>204</td>\n",
       "    </tr>\n",
       "    <tr>\n",
       "      <th>187198</th>\n",
       "      <td>2022-11-30 23:00:00</td>\n",
       "      <td>115</td>\n",
       "    </tr>\n",
       "    <tr>\n",
       "      <th>187199</th>\n",
       "      <td>2022-11-30 23:00:00</td>\n",
       "      <td>245</td>\n",
       "    </tr>\n",
       "  </tbody>\n",
       "</table>\n",
       "<p>187200 rows × 2 columns</p>\n",
       "</div>"
      ],
      "text/plain": [
       "       tpep_pickup_datetime  PULocationID\n",
       "0       2022-11-01 00:00:00           151\n",
       "1       2022-11-01 00:00:00            90\n",
       "2       2022-11-01 00:00:00           137\n",
       "3       2022-11-01 00:00:00           158\n",
       "4       2022-11-01 00:00:00           249\n",
       "...                     ...           ...\n",
       "187195  2022-11-30 23:00:00           187\n",
       "187196  2022-11-30 23:00:00            59\n",
       "187197  2022-11-30 23:00:00           204\n",
       "187198  2022-11-30 23:00:00           115\n",
       "187199  2022-11-30 23:00:00           245\n",
       "\n",
       "[187200 rows x 2 columns]"
      ]
     },
     "execution_count": 38,
     "metadata": {},
     "output_type": "execute_result"
    }
   ],
   "source": [
    "all_values"
   ]
  },
  {
   "cell_type": "code",
   "execution_count": 33,
   "id": "1a553b94",
   "metadata": {},
   "outputs": [],
   "source": [
    "# merging the all values with the data we have and filling nan by 0\n",
    "final_data=pd.merge(final,all_values,on=['PULocationID','tpep_pickup_datetime'],how='outer')\n",
    "final_data['total_request']=final_data['total_request'].fillna('0.0')\n"
   ]
  },
  {
   "cell_type": "code",
   "execution_count": 34,
   "id": "0170aceb",
   "metadata": {},
   "outputs": [],
   "source": [
    "final_data.to_csv('clean_data.csv',index=False )"
   ]
  },
  {
   "cell_type": "code",
   "execution_count": null,
   "id": "fda1dac5",
   "metadata": {},
   "outputs": [],
   "source": []
  }
 ],
 "metadata": {
  "kernelspec": {
   "display_name": "Python 3 (ipykernel)",
   "language": "python",
   "name": "python3"
  },
  "language_info": {
   "codemirror_mode": {
    "name": "ipython",
    "version": 3
   },
   "file_extension": ".py",
   "mimetype": "text/x-python",
   "name": "python",
   "nbconvert_exporter": "python",
   "pygments_lexer": "ipython3",
   "version": "3.8.8"
  }
 },
 "nbformat": 4,
 "nbformat_minor": 5
}
