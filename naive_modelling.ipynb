{
 "cells": [
  {
   "attachments": {},
   "cell_type": "markdown",
   "metadata": {},
   "source": [
    "## Imports"
   ]
  },
  {
   "cell_type": "code",
   "execution_count": 1,
   "metadata": {},
   "outputs": [],
   "source": [
    "import numpy as np\n",
    "import pandas as pd\n",
    "import matplotlib.pyplot as plt\n",
    "import seaborn as sns\n",
    "import plotly.express as px\n",
    "import warnings\n",
    "import random\n",
    "random.seed(42)\n",
    "warnings.filterwarnings('ignore')"
   ]
  },
  {
   "cell_type": "code",
   "execution_count": 2,
   "metadata": {},
   "outputs": [],
   "source": [
    "from statsmodels.tsa.stattools import adfuller\n",
    "from statsmodels.graphics.tsaplots import plot_acf, plot_pacf\n",
    "from statsmodels.tsa.seasonal import seasonal_decompose\n",
    "from scipy.stats import kurtosis\n",
    "from pmdarima.arima import auto_arima\n"
   ]
  },
  {
   "cell_type": "code",
   "execution_count": 3,
   "metadata": {},
   "outputs": [],
   "source": [
    "import os\n",
    "import sys\n",
    "module_path = os.path.abspath(os.path.join('.'))\n",
    "# from utils import eval_metrics"
   ]
  },
  {
   "attachments": {},
   "cell_type": "markdown",
   "metadata": {},
   "source": [
    "## Reading Data"
   ]
  },
  {
   "cell_type": "code",
   "execution_count": 4,
   "metadata": {},
   "outputs": [
    {
     "data": {
      "text/html": [
       "<div>\n",
       "<style scoped>\n",
       "    .dataframe tbody tr th:only-of-type {\n",
       "        vertical-align: middle;\n",
       "    }\n",
       "\n",
       "    .dataframe tbody tr th {\n",
       "        vertical-align: top;\n",
       "    }\n",
       "\n",
       "    .dataframe thead th {\n",
       "        text-align: right;\n",
       "    }\n",
       "</style>\n",
       "<table border=\"1\" class=\"dataframe\">\n",
       "  <thead>\n",
       "    <tr style=\"text-align: right;\">\n",
       "      <th></th>\n",
       "      <th>Store</th>\n",
       "      <th>DayOfWeek</th>\n",
       "      <th>Sales</th>\n",
       "      <th>Customers</th>\n",
       "      <th>Open</th>\n",
       "      <th>Promo</th>\n",
       "      <th>StateHoliday</th>\n",
       "      <th>SchoolHoliday</th>\n",
       "    </tr>\n",
       "    <tr>\n",
       "      <th>Date</th>\n",
       "      <th></th>\n",
       "      <th></th>\n",
       "      <th></th>\n",
       "      <th></th>\n",
       "      <th></th>\n",
       "      <th></th>\n",
       "      <th></th>\n",
       "      <th></th>\n",
       "    </tr>\n",
       "  </thead>\n",
       "  <tbody>\n",
       "    <tr>\n",
       "      <th>2013-01-01</th>\n",
       "      <td>1115</td>\n",
       "      <td>2</td>\n",
       "      <td>0</td>\n",
       "      <td>0</td>\n",
       "      <td>0</td>\n",
       "      <td>0</td>\n",
       "      <td>a</td>\n",
       "      <td>1</td>\n",
       "    </tr>\n",
       "    <tr>\n",
       "      <th>2013-01-01</th>\n",
       "      <td>379</td>\n",
       "      <td>2</td>\n",
       "      <td>0</td>\n",
       "      <td>0</td>\n",
       "      <td>0</td>\n",
       "      <td>0</td>\n",
       "      <td>a</td>\n",
       "      <td>1</td>\n",
       "    </tr>\n",
       "    <tr>\n",
       "      <th>2013-01-01</th>\n",
       "      <td>378</td>\n",
       "      <td>2</td>\n",
       "      <td>0</td>\n",
       "      <td>0</td>\n",
       "      <td>0</td>\n",
       "      <td>0</td>\n",
       "      <td>a</td>\n",
       "      <td>1</td>\n",
       "    </tr>\n",
       "    <tr>\n",
       "      <th>2013-01-01</th>\n",
       "      <td>377</td>\n",
       "      <td>2</td>\n",
       "      <td>0</td>\n",
       "      <td>0</td>\n",
       "      <td>0</td>\n",
       "      <td>0</td>\n",
       "      <td>a</td>\n",
       "      <td>1</td>\n",
       "    </tr>\n",
       "    <tr>\n",
       "      <th>2013-01-01</th>\n",
       "      <td>376</td>\n",
       "      <td>2</td>\n",
       "      <td>0</td>\n",
       "      <td>0</td>\n",
       "      <td>0</td>\n",
       "      <td>0</td>\n",
       "      <td>a</td>\n",
       "      <td>1</td>\n",
       "    </tr>\n",
       "  </tbody>\n",
       "</table>\n",
       "</div>"
      ],
      "text/plain": [
       "            Store  DayOfWeek  Sales  Customers  Open  Promo StateHoliday  \\\n",
       "Date                                                                       \n",
       "2013-01-01   1115          2      0          0     0      0            a   \n",
       "2013-01-01    379          2      0          0     0      0            a   \n",
       "2013-01-01    378          2      0          0     0      0            a   \n",
       "2013-01-01    377          2      0          0     0      0            a   \n",
       "2013-01-01    376          2      0          0     0      0            a   \n",
       "\n",
       "            SchoolHoliday  \n",
       "Date                       \n",
       "2013-01-01              1  \n",
       "2013-01-01              1  \n",
       "2013-01-01              1  \n",
       "2013-01-01              1  \n",
       "2013-01-01              1  "
      ]
     },
     "execution_count": 4,
     "metadata": {},
     "output_type": "execute_result"
    }
   ],
   "source": [
    "sales = pd.read_csv('Dataset/train.csv')\n",
    "sales.Date = pd.to_datetime(sales.Date)\n",
    "sales.reset_index()\n",
    "sales['Date'] = sales['Date'].astype('datetime64')\n",
    "sales.set_index('Date', inplace=True)\n",
    "sales = sales.sort_index(ascending=True)\n",
    "sales.head()"
   ]
  },
  {
   "attachments": {},
   "cell_type": "markdown",
   "metadata": {},
   "source": [
    "# Baseline Model\n",
    "1. This takes the data and calculates the Rolling mean with the given 'window'.\n",
    "2. predict_timeframe set to greater than 0 (predict_timeframe >0), If there is a prediction to be made for future date. \n",
    "3. The forecast window is determined by predict timeframe"
   ]
  },
  {
   "cell_type": "code",
   "execution_count": 13,
   "metadata": {},
   "outputs": [],
   "source": [
    "# Requirement : Index must be sorted in ascending order\n",
    "def BaselinePrediction(data, predict_timeframe= 42, window = 12):\n",
    "    timeframe_predictions = None\n",
    "    plt.figure(figsize=(10,10))\n",
    "    if(predict_timeframe > 0):\n",
    "        val = pd.date_range(data.index[-1] + pd.Timedelta(days = 1), periods= predict_timeframe, freq= 'D')\n",
    "        pred_values = list(data.iloc[-window:].values)\n",
    "        for i in np.arange(1,predict_timeframe):\n",
    "            pred_values.append(np.sum(pred_values[-window:])/window)\n",
    "        timeframe_predictions = pd.Series(index= val, data= pred_values[-predict_timeframe:]) \n",
    "        timeframe_predictions.fillna(0,inplace=True)   \n",
    "        plt.plot(timeframe_predictions, color = 'red', label= \"Test Predictions\")   \n",
    "    predictions = data.rolling(window).mean()\n",
    "    predictions.fillna(0, inplace = True)\n",
    "    plt.plot(data,color = '#000000', label = 'Original Data')\n",
    "    plt.plot(predictions[window:], color = 'green', label = 'Train Predictions')\n",
    "    plt.legend()\n",
    "    return timeframe_predictions"
   ]
  },
  {
   "cell_type": "code",
   "execution_count": 14,
   "metadata": {},
   "outputs": [],
   "source": [
    "def eval_metrics(actual_val, predicted_val):\n",
    "    \"\"\"\n",
    "    Returns the MSE, MAE and RMSE Error for the given values\n",
    "    Parameters:\n",
    "    * actual_val    : The actual value of the data\n",
    "    * predicted_val : The predicted value of the data\n",
    "    returns:\n",
    "    errors<Tuple> : A tuple of MSE MAE and RMSE score for the data (MSE, MAE, RMSE)\n",
    "    \"\"\"\n",
    "    mse     = (np.square(actual_val - predicted_val)).mean()\n",
    "    mae     = (np.abs(actual_val - predicted_val)).mean()\n",
    "    rmse    = np.sqrt(mse)\n",
    "    errors  = (mse,mae,rmse)\n",
    "    return errors\n",
    "\n",
    "def print_eval_metrics(actual_val, predicted_val):\n",
    "    mse,mae,rmse = eval_metrics(actual_val, predicted_val)\n",
    "    print(f\"\\nThe Mean Squared Error(MSE) : {mse}\")\n",
    "    print(f\"\\nThe Mean Absolute Error(MAE) : {mae}\")\n",
    "    print(f\"\\nThe Root Mean Squared Error(RMSE) : {rmse}\")"
   ]
  },
  {
   "attachments": {},
   "cell_type": "markdown",
   "metadata": {},
   "source": [
    "# Predictions\n"
   ]
  },
  {
   "attachments": {},
   "cell_type": "markdown",
   "metadata": {},
   "source": [
    "### For Store Number(1)"
   ]
  },
  {
   "cell_type": "code",
   "execution_count": 15,
   "metadata": {},
   "outputs": [
    {
     "name": "stdout",
     "output_type": "stream",
     "text": [
      "52\n"
     ]
    }
   ],
   "source": [
    "print(random.randint(1, 1555))\n",
    "first_store = sales[sales['Store'] == 1]\n",
    "first_store_open = first_store[first_store.Open ==1]\n",
    "# first_store.index= first_store.index.astype('datetime64[ns]')\n",
    "fs = first_store.Sales.copy()\n",
    "fs_open = first_store_open.Sales.copy()\n",
    "fs.sort_index(ascending= True, inplace= True)\n",
    "fs_open.sort_index(ascending= True, inplace=True)"
   ]
  },
  {
   "cell_type": "code",
   "execution_count": 17,
   "metadata": {},
   "outputs": [
    {
     "data": {
      "image/png": "[encoded data removed]",
      "text/plain": [
       "<Figure size 720x720 with 1 Axes>"
      ]
     },
     "metadata": {
      "needs_background": "light"
     },
     "output_type": "display_data"
    }
   ],
   "source": [
    "predict_timeframe = 42\n",
    "window = 12\n",
    "data = fs\n",
    "# plt.figure(figsize=(20,10))\n",
    "predict_1 = BaselinePrediction(fs[:-42], predict_timeframe=predict_timeframe, window=window)\n",
    "# plt.plot(fs)"
   ]
  },
  {
   "cell_type": "code",
   "execution_count": 22,
   "metadata": {},
   "outputs": [
    {
     "name": "stdout",
     "output_type": "stream",
     "text": [
      "\n",
      "The Mean Squared Error(MSE) : 2869023.855084995\n",
      "\n",
      "The Mean Absolute Error(MAE) : 1137.8353478616295\n",
      "\n",
      "The Root Mean Squared Error(RMSE) : 1693.8193100460849\n"
     ]
    }
   ],
   "source": [
    "print_eval_metrics(predict_1, fs[-42:])"
   ]
  },
  {
   "cell_type": "code",
   "execution_count": 28,
   "metadata": {},
   "outputs": [
    {
     "data": {
      "text/plain": [
       "Date\n",
       "2015-06-20    4097\n",
       "2015-06-21       0\n",
       "2015-06-22    3846\n",
       "2015-06-23    3762\n",
       "2015-06-24    3346\n",
       "2015-06-25    3533\n",
       "2015-06-26    3317\n",
       "2015-06-27    4019\n",
       "2015-06-28       0\n",
       "2015-06-29    5197\n",
       "2015-06-30    5735\n",
       "2015-07-01    5223\n",
       "2015-07-02    5558\n",
       "2015-07-03    4665\n",
       "2015-07-04    4797\n",
       "2015-07-05       0\n",
       "2015-07-06    4359\n",
       "2015-07-07    3650\n",
       "2015-07-08    3797\n",
       "2015-07-09    3897\n",
       "2015-07-10    3808\n",
       "2015-07-11    3530\n",
       "2015-07-12       0\n",
       "2015-07-13    5054\n",
       "2015-07-14    5042\n",
       "2015-07-15    4767\n",
       "2015-07-16    4427\n",
       "2015-07-17    4852\n",
       "2015-07-18    4406\n",
       "2015-07-19       0\n",
       "2015-07-20    4395\n",
       "2015-07-21    3558\n",
       "2015-07-22    3464\n",
       "2015-07-23    3769\n",
       "2015-07-24    3706\n",
       "2015-07-25    4364\n",
       "2015-07-26       0\n",
       "2015-07-27    6102\n",
       "2015-07-28    5011\n",
       "2015-07-29    4782\n",
       "2015-07-30    5020\n",
       "2015-07-31    5263\n",
       "Name: Sales, dtype: int64"
      ]
     },
     "execution_count": 28,
     "metadata": {},
     "output_type": "execute_result"
    }
   ],
   "source": [
    "fs[-42:]"
   ]
  },
  {
   "attachments": {},
   "cell_type": "markdown",
   "metadata": {},
   "source": [
    "### Taking the Mean of the data as the baseline model"
   ]
  },
  {
   "cell_type": "code",
   "execution_count": null,
   "metadata": {},
   "outputs": [],
   "source": [
    "def SimpleMeanBaseline(data, title= \"hello\" ,  mean_line = True, xlabel=\"time\", ylabel=\"series\"):\n",
    "    plt.figure(figsize =(10 ,7))\n",
    "\n",
    "    predictions = pd.Series([ np.nanmean(data) ]* len(fs) , index = fs.index)   \n",
    "    plt.plot(data)\n",
    "    if(mean_line  == True):\n",
    "        plt.axhline(y=np.nanmean(data), color = \"red\", label = f'mean(= {np.nanmean(data):.2f} )')\n",
    "    plt.title(title)\n",
    "    plt.xlabel(xlabel)\n",
    "    plt.xticks(rotation=45 , rotation_mode='anchor', ha ='right' )\n",
    "    plt.ylabel(ylabel)\n",
    "    plt.legend()\n",
    "    plt.grid(alpha=0.3)\n",
    "    plt.show();\n",
    "    return predictions"
   ]
  },
  {
   "cell_type": "code",
   "execution_count": null,
   "metadata": {},
   "outputs": [],
   "source": [
    "meanbase_pred = SimpleMeanBaseline(fs_open)"
   ]
  },
  {
   "cell_type": "code",
   "execution_count": null,
   "metadata": {},
   "outputs": [],
   "source": [
    "eval_metrics(meanbase_pred, fs_open)"
   ]
  },
  {
   "attachments": {},
   "cell_type": "markdown",
   "metadata": {},
   "source": [
    "# For Store with maximum/minimum Sales"
   ]
  },
  {
   "cell_type": "code",
   "execution_count": null,
   "metadata": {},
   "outputs": [],
   "source": [
    "sales_sum_store = sales.groupby('Store')['Sales'].mean()"
   ]
  },
  {
   "cell_type": "code",
   "execution_count": null,
   "metadata": {},
   "outputs": [],
   "source": [
    "store_w_max_sales = sales_sum_store.argmax()\n",
    "store_w_min_sales = sales_sum_store.argmin()\n"
   ]
  },
  {
   "cell_type": "code",
   "execution_count": null,
   "metadata": {},
   "outputs": [],
   "source": [
    "df_max_sales = sales[sales.Store == store_w_max_sales]\n",
    "df_min_sales = sales[sales.Store == store_w_min_sales]\n",
    "df_max_sales_open = df_max_sales[df_max_sales.Open == 1]\n",
    "df_min_sales_open = df_min_sales[df_min_sales.Open == 1]"
   ]
  },
  {
   "cell_type": "code",
   "execution_count": null,
   "metadata": {},
   "outputs": [],
   "source": [
    "store_highest =BaselinePrediction(df_max_sales_open.Sales)"
   ]
  },
  {
   "cell_type": "code",
   "execution_count": null,
   "metadata": {},
   "outputs": [],
   "source": [
    "print_eval_metrics(store_highest, df_max_sales_open.Sales)"
   ]
  },
  {
   "cell_type": "code",
   "execution_count": null,
   "metadata": {},
   "outputs": [],
   "source": [
    "store_lowest = BaselinePrediction(df_min_sales_open.Sales)"
   ]
  },
  {
   "cell_type": "code",
   "execution_count": null,
   "metadata": {},
   "outputs": [],
   "source": [
    "mask = (df_min_sales_open.index > '2014-07') & (df_min_sales_open.index<'2015-02')\n",
    "df_min_sales_open[mask]"
   ]
  }
 ],
 "metadata": {
  "kernelspec": {
   "display_name": "base",
   "language": "python",
   "name": "python3"
  },
  "language_info": {
   "codemirror_mode": {
    "name": "ipython",
    "version": 3
   },
   "file_extension": ".py",
   "mimetype": "text/x-python",
   "name": "python",
   "nbconvert_exporter": "python",
   "pygments_lexer": "ipython3",
   "version": "3.9.12"
  },
  "orig_nbformat": 4,
  "vscode": {
   "interpreter": {
    "hash": "057f079fc3d051b446532bd70a4afd7f1511df77c1a1aec452212a8ba7c53c9f"
   }
  }
 },
 "nbformat": 4,
 "nbformat_minor": 2
}
