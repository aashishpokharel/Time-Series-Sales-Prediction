{
 "cells": [
  {
   "cell_type": "code",
   "execution_count": null,
   "metadata": {
    "execution": {
     "iopub.execute_input": "2022-04-03T03:57:47.368118Z",
     "iopub.status.busy": "2022-04-03T03:57:47.367627Z",
     "iopub.status.idle": "2022-04-03T03:57:49.7603Z",
     "shell.execute_reply": "2022-04-03T03:57:49.75925Z",
     "shell.execute_reply.started": "2022-04-03T03:57:47.367996Z"
    }
   },
   "outputs": [],
   "source": [
    "import pandas as pd\n",
    "import numpy as np\n",
    "import matplotlib.pyplot as plt\n",
    "import seaborn as sns\n",
    "import datetime\n",
    "import plotly.express as px\n",
    "from plotly.offline import init_notebook_mode\n",
    "init_notebook_mode(connected = True)"
   ]
  },
  {
   "cell_type": "code",
   "execution_count": null,
   "metadata": {
    "execution": {
     "iopub.execute_input": "2022-04-03T03:57:49.76292Z",
     "iopub.status.busy": "2022-04-03T03:57:49.762486Z",
     "iopub.status.idle": "2022-04-03T03:57:49.770643Z",
     "shell.execute_reply": "2022-04-03T03:57:49.769823Z",
     "shell.execute_reply.started": "2022-04-03T03:57:49.762848Z"
    }
   },
   "outputs": [],
   "source": [
    "import os\n",
    "for dirname, _, filenames in os.walk('/kaggle/input'):\n",
    "    for filename in filenames:\n",
    "        print(os.path.join(dirname, filename))"
   ]
  },
  {
   "cell_type": "markdown",
   "metadata": {},
   "source": [
    "### Sales data"
   ]
  },
  {
   "cell_type": "code",
   "execution_count": null,
   "metadata": {
    "execution": {
     "iopub.execute_input": "2022-04-03T03:57:49.772586Z",
     "iopub.status.busy": "2022-04-03T03:57:49.772065Z",
     "iopub.status.idle": "2022-04-03T03:57:51.153075Z",
     "shell.execute_reply": "2022-04-03T03:57:51.152357Z",
     "shell.execute_reply.started": "2022-04-03T03:57:49.772546Z"
    }
   },
   "outputs": [],
   "source": [
    "sales_train_df = pd.read_csv('../input/rossmann-store-sales/train.csv');"
   ]
  },
  {
   "cell_type": "code",
   "execution_count": null,
   "metadata": {
    "execution": {
     "iopub.execute_input": "2022-04-03T03:57:51.156016Z",
     "iopub.status.busy": "2022-04-03T03:57:51.155496Z",
     "iopub.status.idle": "2022-04-03T03:57:51.166841Z",
     "shell.execute_reply": "2022-04-03T03:57:51.165936Z",
     "shell.execute_reply.started": "2022-04-03T03:57:51.155969Z"
    }
   },
   "outputs": [],
   "source": [
    "sales_train_df.shape"
   ]
  },
  {
   "cell_type": "code",
   "execution_count": null,
   "metadata": {
    "execution": {
     "iopub.execute_input": "2022-04-03T03:57:51.168553Z",
     "iopub.status.busy": "2022-04-03T03:57:51.168175Z",
     "iopub.status.idle": "2022-04-03T03:57:51.194009Z",
     "shell.execute_reply": "2022-04-03T03:57:51.193148Z",
     "shell.execute_reply.started": "2022-04-03T03:57:51.168508Z"
    }
   },
   "outputs": [],
   "source": [
    "sales_train_df.head()"
   ]
  },
  {
   "cell_type": "code",
   "execution_count": null,
   "metadata": {
    "execution": {
     "iopub.execute_input": "2022-04-03T03:57:51.196132Z",
     "iopub.status.busy": "2022-04-03T03:57:51.195786Z",
     "iopub.status.idle": "2022-04-03T03:57:51.216716Z",
     "shell.execute_reply": "2022-04-03T03:57:51.215682Z",
     "shell.execute_reply.started": "2022-04-03T03:57:51.196088Z"
    }
   },
   "outputs": [],
   "source": [
    "sales_train_df['DayOfWeek'].unique()"
   ]
  },
  {
   "cell_type": "code",
   "execution_count": null,
   "metadata": {
    "execution": {
     "iopub.execute_input": "2022-04-03T03:57:51.21893Z",
     "iopub.status.busy": "2022-04-03T03:57:51.218597Z",
     "iopub.status.idle": "2022-04-03T03:57:51.233398Z",
     "shell.execute_reply": "2022-04-03T03:57:51.232493Z",
     "shell.execute_reply.started": "2022-04-03T03:57:51.218867Z"
    }
   },
   "outputs": [],
   "source": [
    "sales_train_df['Open'].unique()"
   ]
  },
  {
   "cell_type": "code",
   "execution_count": null,
   "metadata": {
    "execution": {
     "iopub.execute_input": "2022-04-03T03:57:51.235633Z",
     "iopub.status.busy": "2022-04-03T03:57:51.235322Z",
     "iopub.status.idle": "2022-04-03T03:57:51.250661Z",
     "shell.execute_reply": "2022-04-03T03:57:51.249702Z",
     "shell.execute_reply.started": "2022-04-03T03:57:51.235593Z"
    }
   },
   "outputs": [],
   "source": [
    "sales_train_df['Promo'].unique()"
   ]
  },
  {
   "cell_type": "code",
   "execution_count": null,
   "metadata": {
    "execution": {
     "iopub.execute_input": "2022-04-03T03:57:51.252113Z",
     "iopub.status.busy": "2022-04-03T03:57:51.251847Z",
     "iopub.status.idle": "2022-04-03T03:57:51.313945Z",
     "shell.execute_reply": "2022-04-03T03:57:51.313057Z",
     "shell.execute_reply.started": "2022-04-03T03:57:51.252083Z"
    }
   },
   "outputs": [],
   "source": [
    "sales_train_df['StateHoliday'].unique()"
   ]
  },
  {
   "cell_type": "code",
   "execution_count": null,
   "metadata": {
    "execution": {
     "iopub.execute_input": "2022-04-03T03:57:51.3192Z",
     "iopub.status.busy": "2022-04-03T03:57:51.318687Z",
     "iopub.status.idle": "2022-04-03T03:57:51.334343Z",
     "shell.execute_reply": "2022-04-03T03:57:51.333428Z",
     "shell.execute_reply.started": "2022-04-03T03:57:51.319152Z"
    }
   },
   "outputs": [],
   "source": [
    "sales_train_df['SchoolHoliday'].unique()"
   ]
  },
  {
   "cell_type": "code",
   "execution_count": null,
   "metadata": {
    "execution": {
     "iopub.execute_input": "2022-04-03T03:57:51.336171Z",
     "iopub.status.busy": "2022-04-03T03:57:51.335844Z",
     "iopub.status.idle": "2022-04-03T03:57:51.350251Z",
     "shell.execute_reply": "2022-04-03T03:57:51.349257Z",
     "shell.execute_reply.started": "2022-04-03T03:57:51.336126Z"
    }
   },
   "outputs": [],
   "source": [
    "sales_train_df.tail()"
   ]
  },
  {
   "cell_type": "code",
   "execution_count": null,
   "metadata": {
    "execution": {
     "iopub.execute_input": "2022-04-03T03:57:51.352631Z",
     "iopub.status.busy": "2022-04-03T03:57:51.352298Z",
     "iopub.status.idle": "2022-04-03T03:57:51.610039Z",
     "shell.execute_reply": "2022-04-03T03:57:51.608954Z",
     "shell.execute_reply.started": "2022-04-03T03:57:51.352585Z"
    }
   },
   "outputs": [],
   "source": [
    "sales_train_df.info()"
   ]
  },
  {
   "cell_type": "code",
   "execution_count": null,
   "metadata": {
    "execution": {
     "iopub.execute_input": "2022-04-03T03:57:51.611616Z",
     "iopub.status.busy": "2022-04-03T03:57:51.611359Z",
     "iopub.status.idle": "2022-04-03T03:57:51.823798Z",
     "shell.execute_reply": "2022-04-03T03:57:51.822911Z",
     "shell.execute_reply.started": "2022-04-03T03:57:51.611584Z"
    }
   },
   "outputs": [],
   "source": [
    "sales_train_df.describe()"
   ]
  },
  {
   "cell_type": "markdown",
   "metadata": {},
   "source": [
    "### Store data"
   ]
  },
  {
   "cell_type": "code",
   "execution_count": null,
   "metadata": {
    "execution": {
     "iopub.execute_input": "2022-04-03T03:57:51.825141Z",
     "iopub.status.busy": "2022-04-03T03:57:51.824923Z",
     "iopub.status.idle": "2022-04-03T03:57:51.8425Z",
     "shell.execute_reply": "2022-04-03T03:57:51.841752Z",
     "shell.execute_reply.started": "2022-04-03T03:57:51.825114Z"
    }
   },
   "outputs": [],
   "source": [
    "store_info_df = pd.read_csv('../input/rossmann-store-sales/store.csv')"
   ]
  },
  {
   "cell_type": "code",
   "execution_count": null,
   "metadata": {
    "execution": {
     "iopub.execute_input": "2022-04-03T03:57:51.844172Z",
     "iopub.status.busy": "2022-04-03T03:57:51.84396Z",
     "iopub.status.idle": "2022-04-03T03:57:51.849026Z",
     "shell.execute_reply": "2022-04-03T03:57:51.848444Z",
     "shell.execute_reply.started": "2022-04-03T03:57:51.844145Z"
    }
   },
   "outputs": [],
   "source": [
    "store_info_df.shape"
   ]
  },
  {
   "cell_type": "code",
   "execution_count": null,
   "metadata": {
    "execution": {
     "iopub.execute_input": "2022-04-03T03:57:51.85073Z",
     "iopub.status.busy": "2022-04-03T03:57:51.850122Z",
     "iopub.status.idle": "2022-04-03T03:57:51.873715Z",
     "shell.execute_reply": "2022-04-03T03:57:51.87248Z",
     "shell.execute_reply.started": "2022-04-03T03:57:51.85069Z"
    }
   },
   "outputs": [],
   "source": [
    "store_info_df.head()"
   ]
  },
  {
   "cell_type": "code",
   "execution_count": null,
   "metadata": {
    "execution": {
     "iopub.execute_input": "2022-04-03T03:57:51.875578Z",
     "iopub.status.busy": "2022-04-03T03:57:51.875032Z",
     "iopub.status.idle": "2022-04-03T03:57:51.892896Z",
     "shell.execute_reply": "2022-04-03T03:57:51.89227Z",
     "shell.execute_reply.started": "2022-04-03T03:57:51.875532Z"
    }
   },
   "outputs": [],
   "source": [
    "store_info_df.info()"
   ]
  },
  {
   "cell_type": "code",
   "execution_count": null,
   "metadata": {
    "execution": {
     "iopub.execute_input": "2022-04-03T03:57:51.894345Z",
     "iopub.status.busy": "2022-04-03T03:57:51.893759Z",
     "iopub.status.idle": "2022-04-03T03:57:51.924564Z",
     "shell.execute_reply": "2022-04-03T03:57:51.923847Z",
     "shell.execute_reply.started": "2022-04-03T03:57:51.89431Z"
    }
   },
   "outputs": [],
   "source": [
    "store_info_df.describe()"
   ]
  },
  {
   "cell_type": "markdown",
   "metadata": {},
   "source": [
    "### Data exploration"
   ]
  },
  {
   "cell_type": "markdown",
   "metadata": {},
   "source": [
    "#### Sales data"
   ]
  },
  {
   "cell_type": "code",
   "execution_count": null,
   "metadata": {
    "execution": {
     "iopub.execute_input": "2022-04-03T03:57:51.926316Z",
     "iopub.status.busy": "2022-04-03T03:57:51.925535Z",
     "iopub.status.idle": "2022-04-03T03:58:04.267227Z",
     "shell.execute_reply": "2022-04-03T03:58:04.266196Z",
     "shell.execute_reply.started": "2022-04-03T03:57:51.926263Z"
    }
   },
   "outputs": [],
   "source": [
    "sns.heatmap(sales_train_df.isnull());"
   ]
  },
  {
   "cell_type": "code",
   "execution_count": null,
   "metadata": {
    "execution": {
     "iopub.execute_input": "2022-04-03T03:58:04.268574Z",
     "iopub.status.busy": "2022-04-03T03:58:04.268356Z",
     "iopub.status.idle": "2022-04-03T03:58:04.502088Z",
     "shell.execute_reply": "2022-04-03T03:58:04.501026Z",
     "shell.execute_reply.started": "2022-04-03T03:58:04.268547Z"
    }
   },
   "outputs": [],
   "source": [
    "sales_train_df.isnull().sum()"
   ]
  },
  {
   "cell_type": "code",
   "execution_count": null,
   "metadata": {
    "execution": {
     "iopub.execute_input": "2022-04-03T03:58:04.503464Z",
     "iopub.status.busy": "2022-04-03T03:58:04.503248Z",
     "iopub.status.idle": "2022-04-03T03:58:06.44219Z",
     "shell.execute_reply": "2022-04-03T03:58:06.441283Z",
     "shell.execute_reply.started": "2022-04-03T03:58:04.503437Z"
    }
   },
   "outputs": [],
   "source": [
    "sales_train_df.hist(bins = 30, figsize = (20, 20), color = 'r');"
   ]
  },
  {
   "cell_type": "code",
   "execution_count": null,
   "metadata": {
    "execution": {
     "iopub.execute_input": "2022-04-03T03:58:06.444204Z",
     "iopub.status.busy": "2022-04-03T03:58:06.443707Z",
     "iopub.status.idle": "2022-04-03T03:58:06.510168Z",
     "shell.execute_reply": "2022-04-03T03:58:06.509301Z",
     "shell.execute_reply.started": "2022-04-03T03:58:06.444159Z"
    }
   },
   "outputs": [],
   "source": [
    "# Number of transactions per day in closed/open stores\n",
    "closed_train_df = sales_train_df[sales_train_df['Open'] == 0]\n",
    "open_train_df = sales_train_df[sales_train_df['Open'] == 1]\n",
    "print('Total = ', len(sales_train_df))\n",
    "print('number of stores/day closed = ', len(closed_train_df))\n",
    "print('number of stores/day open = ', len(open_train_df))"
   ]
  },
  {
   "cell_type": "code",
   "execution_count": null,
   "metadata": {
    "execution": {
     "iopub.execute_input": "2022-04-03T03:58:06.512121Z",
     "iopub.status.busy": "2022-04-03T03:58:06.511436Z",
     "iopub.status.idle": "2022-04-03T03:58:06.517498Z",
     "shell.execute_reply": "2022-04-03T03:58:06.516757Z",
     "shell.execute_reply.started": "2022-04-03T03:58:06.512084Z"
    }
   },
   "outputs": [],
   "source": [
    "# A better estimate: 154 days in total that stores were closed\n",
    "172817 / len(store_info_df)"
   ]
  },
  {
   "cell_type": "code",
   "execution_count": null,
   "metadata": {
    "execution": {
     "iopub.execute_input": "2022-04-03T03:58:06.519124Z",
     "iopub.status.busy": "2022-04-03T03:58:06.518514Z",
     "iopub.status.idle": "2022-04-03T03:58:06.538811Z",
     "shell.execute_reply": "2022-04-03T03:58:06.537828Z",
     "shell.execute_reply.started": "2022-04-03T03:58:06.519092Z"
    }
   },
   "outputs": [],
   "source": [
    "closed_train_df.head()"
   ]
  },
  {
   "cell_type": "markdown",
   "metadata": {},
   "source": [
    "We are going to apply a filter so that we only have data from stores on open days, as it makes no sense to use data from when stores are closed, since there are no sales on those days, in addition to messing up the data statistics."
   ]
  },
  {
   "cell_type": "code",
   "execution_count": null,
   "metadata": {
    "execution": {
     "iopub.execute_input": "2022-04-03T03:58:06.540292Z",
     "iopub.status.busy": "2022-04-03T03:58:06.540054Z",
     "iopub.status.idle": "2022-04-03T03:58:06.601451Z",
     "shell.execute_reply": "2022-04-03T03:58:06.600439Z",
     "shell.execute_reply.started": "2022-04-03T03:58:06.540263Z"
    }
   },
   "outputs": [],
   "source": [
    "sales_train_df = sales_train_df[sales_train_df['Open'] == 1]"
   ]
  },
  {
   "cell_type": "code",
   "execution_count": null,
   "metadata": {
    "execution": {
     "iopub.execute_input": "2022-04-03T03:58:06.602975Z",
     "iopub.status.busy": "2022-04-03T03:58:06.602713Z",
     "iopub.status.idle": "2022-04-03T03:58:06.608738Z",
     "shell.execute_reply": "2022-04-03T03:58:06.60793Z",
     "shell.execute_reply.started": "2022-04-03T03:58:06.602943Z"
    }
   },
   "outputs": [],
   "source": [
    "sales_train_df.shape"
   ]
  },
  {
   "cell_type": "code",
   "execution_count": null,
   "metadata": {
    "execution": {
     "iopub.execute_input": "2022-04-03T03:58:06.610152Z",
     "iopub.status.busy": "2022-04-03T03:58:06.609918Z",
     "iopub.status.idle": "2022-04-03T03:58:06.629122Z",
     "shell.execute_reply": "2022-04-03T03:58:06.628263Z",
     "shell.execute_reply.started": "2022-04-03T03:58:06.610124Z"
    }
   },
   "outputs": [],
   "source": [
    "sales_train_df.head()"
   ]
  },
  {
   "cell_type": "code",
   "execution_count": null,
   "metadata": {
    "_kg_hide-output": true,
    "execution": {
     "iopub.execute_input": "2022-04-03T03:58:06.635046Z",
     "iopub.status.busy": "2022-04-03T03:58:06.634277Z",
     "iopub.status.idle": "2022-04-03T03:58:06.66841Z",
     "shell.execute_reply": "2022-04-03T03:58:06.667645Z",
     "shell.execute_reply.started": "2022-04-03T03:58:06.634991Z"
    }
   },
   "outputs": [],
   "source": [
    "sales_train_df.drop(['Open'], axis = 1, inplace = True)"
   ]
  },
  {
   "cell_type": "code",
   "execution_count": null,
   "metadata": {
    "execution": {
     "iopub.execute_input": "2022-04-03T03:58:06.669973Z",
     "iopub.status.busy": "2022-04-03T03:58:06.669399Z",
     "iopub.status.idle": "2022-04-03T03:58:06.68254Z",
     "shell.execute_reply": "2022-04-03T03:58:06.681947Z",
     "shell.execute_reply.started": "2022-04-03T03:58:06.669937Z"
    }
   },
   "outputs": [],
   "source": [
    "sales_train_df.head()"
   ]
  },
  {
   "cell_type": "markdown",
   "metadata": {},
   "source": [
    "Now, in addition to being more readable, the averages and totals are correct."
   ]
  },
  {
   "cell_type": "code",
   "execution_count": null,
   "metadata": {
    "execution": {
     "iopub.execute_input": "2022-04-03T03:58:06.684162Z",
     "iopub.status.busy": "2022-04-03T03:58:06.68354Z",
     "iopub.status.idle": "2022-04-03T03:58:06.848277Z",
     "shell.execute_reply": "2022-04-03T03:58:06.84746Z",
     "shell.execute_reply.started": "2022-04-03T03:58:06.684128Z"
    }
   },
   "outputs": [],
   "source": [
    "sales_train_df.describe()"
   ]
  },
  {
   "cell_type": "markdown",
   "metadata": {},
   "source": [
    "#### Stores data"
   ]
  },
  {
   "cell_type": "code",
   "execution_count": null,
   "metadata": {
    "execution": {
     "iopub.execute_input": "2022-04-03T03:58:06.850514Z",
     "iopub.status.busy": "2022-04-03T03:58:06.850184Z",
     "iopub.status.idle": "2022-04-03T03:58:07.203763Z",
     "shell.execute_reply": "2022-04-03T03:58:07.202853Z",
     "shell.execute_reply.started": "2022-04-03T03:58:06.850471Z"
    }
   },
   "outputs": [],
   "source": [
    "sns.heatmap(store_info_df.isnull(), cbar = False);"
   ]
  },
  {
   "cell_type": "code",
   "execution_count": null,
   "metadata": {
    "execution": {
     "iopub.execute_input": "2022-04-03T03:58:07.205087Z",
     "iopub.status.busy": "2022-04-03T03:58:07.204839Z",
     "iopub.status.idle": "2022-04-03T03:58:07.222089Z",
     "shell.execute_reply": "2022-04-03T03:58:07.221229Z",
     "shell.execute_reply.started": "2022-04-03T03:58:07.205057Z"
    }
   },
   "outputs": [],
   "source": [
    "store_info_df[store_info_df['CompetitionDistance'].isnull()]"
   ]
  },
  {
   "cell_type": "code",
   "execution_count": null,
   "metadata": {
    "execution": {
     "iopub.execute_input": "2022-04-03T03:58:07.22457Z",
     "iopub.status.busy": "2022-04-03T03:58:07.223931Z",
     "iopub.status.idle": "2022-04-03T03:58:07.252408Z",
     "shell.execute_reply": "2022-04-03T03:58:07.251797Z",
     "shell.execute_reply.started": "2022-04-03T03:58:07.224525Z"
    }
   },
   "outputs": [],
   "source": [
    "store_info_df[store_info_df['CompetitionOpenSinceMonth'].isnull()]"
   ]
  },
  {
   "cell_type": "code",
   "execution_count": null,
   "metadata": {
    "execution": {
     "iopub.execute_input": "2022-04-03T03:58:07.254286Z",
     "iopub.status.busy": "2022-04-03T03:58:07.253724Z",
     "iopub.status.idle": "2022-04-03T03:58:07.279926Z",
     "shell.execute_reply": "2022-04-03T03:58:07.279287Z",
     "shell.execute_reply.started": "2022-04-03T03:58:07.254239Z"
    }
   },
   "outputs": [],
   "source": [
    "store_info_df[store_info_df['CompetitionOpenSinceYear'].isnull()]"
   ]
  },
  {
   "cell_type": "code",
   "execution_count": null,
   "metadata": {
    "execution": {
     "iopub.execute_input": "2022-04-03T03:58:07.281305Z",
     "iopub.status.busy": "2022-04-03T03:58:07.280993Z",
     "iopub.status.idle": "2022-04-03T03:58:07.298696Z",
     "shell.execute_reply": "2022-04-03T03:58:07.297796Z",
     "shell.execute_reply.started": "2022-04-03T03:58:07.281278Z"
    }
   },
   "outputs": [],
   "source": [
    "# Replace null values with zero\n",
    "str_cols = ['Promo2SinceWeek', 'Promo2SinceYear', 'PromoInterval',\n",
    "            'CompetitionOpenSinceYear', 'CompetitionOpenSinceMonth']\n",
    "for str in str_cols:\n",
    "  store_info_df[str].fillna(0, inplace=True)"
   ]
  },
  {
   "cell_type": "code",
   "execution_count": null,
   "metadata": {
    "execution": {
     "iopub.execute_input": "2022-04-03T03:58:07.300922Z",
     "iopub.status.busy": "2022-04-03T03:58:07.300278Z",
     "iopub.status.idle": "2022-04-03T03:58:07.673455Z",
     "shell.execute_reply": "2022-04-03T03:58:07.672043Z",
     "shell.execute_reply.started": "2022-04-03T03:58:07.300858Z"
    }
   },
   "outputs": [],
   "source": [
    "sns.heatmap(store_info_df.isnull(), cbar = False)"
   ]
  },
  {
   "cell_type": "code",
   "execution_count": null,
   "metadata": {
    "execution": {
     "iopub.execute_input": "2022-04-03T03:58:07.675241Z",
     "iopub.status.busy": "2022-04-03T03:58:07.67493Z",
     "iopub.status.idle": "2022-04-03T03:58:07.685125Z",
     "shell.execute_reply": "2022-04-03T03:58:07.684252Z",
     "shell.execute_reply.started": "2022-04-03T03:58:07.675198Z"
    }
   },
   "outputs": [],
   "source": [
    "store_info_df.isnull().sum()"
   ]
  },
  {
   "cell_type": "code",
   "execution_count": null,
   "metadata": {
    "execution": {
     "iopub.execute_input": "2022-04-03T03:58:07.686745Z",
     "iopub.status.busy": "2022-04-03T03:58:07.686434Z",
     "iopub.status.idle": "2022-04-03T03:58:07.696367Z",
     "shell.execute_reply": "2022-04-03T03:58:07.695476Z",
     "shell.execute_reply.started": "2022-04-03T03:58:07.686706Z"
    }
   },
   "outputs": [],
   "source": [
    "store_info_df['CompetitionDistance'].fillna(store_info_df['CompetitionDistance'].mean(), inplace = True)"
   ]
  },
  {
   "cell_type": "code",
   "execution_count": null,
   "metadata": {
    "execution": {
     "iopub.execute_input": "2022-04-03T03:58:07.698202Z",
     "iopub.status.busy": "2022-04-03T03:58:07.697685Z",
     "iopub.status.idle": "2022-04-03T03:58:07.711749Z",
     "shell.execute_reply": "2022-04-03T03:58:07.71094Z",
     "shell.execute_reply.started": "2022-04-03T03:58:07.698164Z"
    }
   },
   "outputs": [],
   "source": [
    "store_info_df.isnull().sum()"
   ]
  },
  {
   "cell_type": "code",
   "execution_count": null,
   "metadata": {
    "execution": {
     "iopub.execute_input": "2022-04-03T03:58:07.71344Z",
     "iopub.status.busy": "2022-04-03T03:58:07.713126Z",
     "iopub.status.idle": "2022-04-03T03:58:09.56174Z",
     "shell.execute_reply": "2022-04-03T03:58:09.560894Z",
     "shell.execute_reply.started": "2022-04-03T03:58:07.713395Z"
    }
   },
   "outputs": [],
   "source": [
    "store_info_df.hist(bins = 30, figsize = (20, 20), color = 'r');"
   ]
  },
  {
   "cell_type": "markdown",
   "metadata": {},
   "source": [
    "It is noticed that the distance from the stores is concentrated around 3 kilometers"
   ]
  },
  {
   "cell_type": "markdown",
   "metadata": {},
   "source": [
    "#### Merged data (sales + stores)"
   ]
  },
  {
   "cell_type": "code",
   "execution_count": null,
   "metadata": {
    "execution": {
     "iopub.execute_input": "2022-04-03T03:58:09.563113Z",
     "iopub.status.busy": "2022-04-03T03:58:09.562863Z",
     "iopub.status.idle": "2022-04-03T03:58:09.579044Z",
     "shell.execute_reply": "2022-04-03T03:58:09.577491Z",
     "shell.execute_reply.started": "2022-04-03T03:58:09.563082Z"
    }
   },
   "outputs": [],
   "source": [
    "sales_train_df.head()"
   ]
  },
  {
   "cell_type": "code",
   "execution_count": null,
   "metadata": {
    "execution": {
     "iopub.execute_input": "2022-04-03T03:58:09.581318Z",
     "iopub.status.busy": "2022-04-03T03:58:09.580692Z",
     "iopub.status.idle": "2022-04-03T03:58:09.607838Z",
     "shell.execute_reply": "2022-04-03T03:58:09.606972Z",
     "shell.execute_reply.started": "2022-04-03T03:58:09.581267Z"
    }
   },
   "outputs": [],
   "source": [
    "store_info_df.head()"
   ]
  },
  {
   "cell_type": "code",
   "execution_count": null,
   "metadata": {
    "execution": {
     "iopub.execute_input": "2022-04-03T03:58:09.610522Z",
     "iopub.status.busy": "2022-04-03T03:58:09.609839Z",
     "iopub.status.idle": "2022-04-03T03:58:10.088678Z",
     "shell.execute_reply": "2022-04-03T03:58:10.087888Z",
     "shell.execute_reply.started": "2022-04-03T03:58:09.610471Z"
    }
   },
   "outputs": [],
   "source": [
    "sales_train_all_df = pd.merge(sales_train_df, store_info_df, how = 'inner', on = 'Store')"
   ]
  },
  {
   "cell_type": "code",
   "execution_count": null,
   "metadata": {
    "execution": {
     "iopub.execute_input": "2022-04-03T03:58:10.092369Z",
     "iopub.status.busy": "2022-04-03T03:58:10.092134Z",
     "iopub.status.idle": "2022-04-03T03:58:10.09885Z",
     "shell.execute_reply": "2022-04-03T03:58:10.09794Z",
     "shell.execute_reply.started": "2022-04-03T03:58:10.092342Z"
    }
   },
   "outputs": [],
   "source": [
    "sales_train_all_df.shape"
   ]
  },
  {
   "cell_type": "code",
   "execution_count": null,
   "metadata": {
    "execution": {
     "iopub.execute_input": "2022-04-03T03:58:10.101503Z",
     "iopub.status.busy": "2022-04-03T03:58:10.100603Z",
     "iopub.status.idle": "2022-04-03T03:58:10.134652Z",
     "shell.execute_reply": "2022-04-03T03:58:10.133892Z",
     "shell.execute_reply.started": "2022-04-03T03:58:10.101456Z"
    }
   },
   "outputs": [],
   "source": [
    "sales_train_all_df.tail()"
   ]
  },
  {
   "cell_type": "code",
   "execution_count": null,
   "metadata": {
    "execution": {
     "iopub.execute_input": "2022-04-03T03:58:10.13657Z",
     "iopub.status.busy": "2022-04-03T03:58:10.136165Z",
     "iopub.status.idle": "2022-04-03T03:58:11.755069Z",
     "shell.execute_reply": "2022-04-03T03:58:11.7441Z",
     "shell.execute_reply.started": "2022-04-03T03:58:10.136529Z"
    }
   },
   "outputs": [],
   "source": [
    "correlations = sales_train_all_df.corr()\n",
    "f, ax = plt.subplots(figsize = (20, 20))\n",
    "sns.heatmap(correlations, annot = True);"
   ]
  },
  {
   "cell_type": "code",
   "execution_count": null,
   "metadata": {
    "execution": {
     "iopub.execute_input": "2022-04-03T03:58:11.756677Z",
     "iopub.status.busy": "2022-04-03T03:58:11.756327Z",
     "iopub.status.idle": "2022-04-03T03:58:12.215909Z",
     "shell.execute_reply": "2022-04-03T03:58:12.215066Z",
     "shell.execute_reply.started": "2022-04-03T03:58:11.756647Z"
    }
   },
   "outputs": [],
   "source": [
    "# correlation of sales with other attributes\n",
    "# A negative value indicates a drop in sales and vice versa. \n",
    "# For example, the more promotions, the more sales, and the more competitors, the less sales.\n",
    "correlations = sales_train_all_df.corr()['Sales'].sort_values()\n",
    "correlations"
   ]
  },
  {
   "cell_type": "code",
   "execution_count": null,
   "metadata": {
    "execution": {
     "iopub.execute_input": "2022-04-03T03:58:12.21787Z",
     "iopub.status.busy": "2022-04-03T03:58:12.217411Z",
     "iopub.status.idle": "2022-04-03T03:58:13.222691Z",
     "shell.execute_reply": "2022-04-03T03:58:13.221883Z",
     "shell.execute_reply.started": "2022-04-03T03:58:12.217828Z"
    }
   },
   "outputs": [],
   "source": [
    "# Separating date attributes into year, month and day.\n",
    "sales_train_all_df['Year'] = pd.DatetimeIndex(sales_train_all_df['Date']).year\n",
    "sales_train_all_df['Month'] = pd.DatetimeIndex(sales_train_all_df['Date']).month\n",
    "sales_train_all_df['Day'] = pd.DatetimeIndex(sales_train_all_df['Date']).day"
   ]
  },
  {
   "cell_type": "code",
   "execution_count": null,
   "metadata": {
    "execution": {
     "iopub.execute_input": "2022-04-03T03:58:13.224068Z",
     "iopub.status.busy": "2022-04-03T03:58:13.223799Z",
     "iopub.status.idle": "2022-04-03T03:58:13.248813Z",
     "shell.execute_reply": "2022-04-03T03:58:13.247894Z",
     "shell.execute_reply.started": "2022-04-03T03:58:13.224037Z"
    }
   },
   "outputs": [],
   "source": [
    "sales_train_all_df.head()"
   ]
  },
  {
   "cell_type": "code",
   "execution_count": null,
   "metadata": {
    "execution": {
     "iopub.execute_input": "2022-04-03T03:58:13.250395Z",
     "iopub.status.busy": "2022-04-03T03:58:13.250178Z",
     "iopub.status.idle": "2022-04-03T03:58:14.448005Z",
     "shell.execute_reply": "2022-04-03T03:58:14.447154Z",
     "shell.execute_reply.started": "2022-04-03T03:58:13.250368Z"
    }
   },
   "outputs": [],
   "source": [
    "axis = sales_train_all_df.groupby('Month')[['Sales']].mean()\n",
    "fig = px.line(axis, x = axis.index, y = 'Sales', title = 'Average sales per month', markers = True)\n",
    "fig.show()"
   ]
  },
  {
   "cell_type": "code",
   "execution_count": null,
   "metadata": {
    "execution": {
     "iopub.execute_input": "2022-04-03T03:58:14.449235Z",
     "iopub.status.busy": "2022-04-03T03:58:14.449034Z",
     "iopub.status.idle": "2022-04-03T03:58:14.538865Z",
     "shell.execute_reply": "2022-04-03T03:58:14.537969Z",
     "shell.execute_reply.started": "2022-04-03T03:58:14.44921Z"
    }
   },
   "outputs": [],
   "source": [
    "axis = sales_train_all_df.groupby('Month')[['Customers']].mean()\n",
    "fig = px.line(axis, x = axis.index, y = 'Customers', title = 'Average customers per month', markers = True)\n",
    "fig.show()"
   ]
  },
  {
   "cell_type": "code",
   "execution_count": null,
   "metadata": {
    "execution": {
     "iopub.execute_input": "2022-04-03T03:58:14.540427Z",
     "iopub.status.busy": "2022-04-03T03:58:14.540116Z",
     "iopub.status.idle": "2022-04-03T03:58:14.63444Z",
     "shell.execute_reply": "2022-04-03T03:58:14.633539Z",
     "shell.execute_reply.started": "2022-04-03T03:58:14.540391Z"
    }
   },
   "outputs": [],
   "source": [
    "axis = sales_train_all_df.groupby('Day')[['Sales']].mean()\n",
    "fig = px.line(axis, x = axis.index, y = 'Sales', title = 'Average sales per day', markers = True)\n",
    "fig.show()"
   ]
  },
  {
   "cell_type": "code",
   "execution_count": null,
   "metadata": {
    "execution": {
     "iopub.execute_input": "2022-04-03T03:58:14.63605Z",
     "iopub.status.busy": "2022-04-03T03:58:14.63581Z",
     "iopub.status.idle": "2022-04-03T03:58:14.725119Z",
     "shell.execute_reply": "2022-04-03T03:58:14.724523Z",
     "shell.execute_reply.started": "2022-04-03T03:58:14.636023Z"
    }
   },
   "outputs": [],
   "source": [
    "axis = sales_train_all_df.groupby('Day')[['Customers']].mean()\n",
    "fig = px.line(axis, x = axis.index, y = 'Customers', title = 'Average customers per day', markers = True)\n",
    "fig.show()"
   ]
  },
  {
   "cell_type": "code",
   "execution_count": null,
   "metadata": {
    "execution": {
     "iopub.execute_input": "2022-04-03T03:58:14.726689Z",
     "iopub.status.busy": "2022-04-03T03:58:14.726017Z",
     "iopub.status.idle": "2022-04-03T03:58:14.814778Z",
     "shell.execute_reply": "2022-04-03T03:58:14.813946Z",
     "shell.execute_reply.started": "2022-04-03T03:58:14.726652Z"
    }
   },
   "outputs": [],
   "source": [
    "axis = sales_train_all_df.groupby('DayOfWeek')[['Sales']].mean()\n",
    "fig = px.line(axis, x = axis.index, y = 'Sales', title = 'Average sales per day of the week', markers = True)\n",
    "fig.show()"
   ]
  },
  {
   "cell_type": "code",
   "execution_count": null,
   "metadata": {
    "execution": {
     "iopub.execute_input": "2022-04-03T03:58:14.816976Z",
     "iopub.status.busy": "2022-04-03T03:58:14.816107Z",
     "iopub.status.idle": "2022-04-03T03:58:14.906286Z",
     "shell.execute_reply": "2022-04-03T03:58:14.905338Z",
     "shell.execute_reply.started": "2022-04-03T03:58:14.81692Z"
    }
   },
   "outputs": [],
   "source": [
    "axis = sales_train_all_df.groupby('DayOfWeek')[['Customers']].mean()\n",
    "fig = px.line(axis, x = axis.index, y = 'Customers', title = 'Average customers per day of the week', markers = True)\n",
    "fig.show()"
   ]
  },
  {
   "cell_type": "code",
   "execution_count": null,
   "metadata": {
    "execution": {
     "iopub.execute_input": "2022-04-03T03:58:14.907995Z",
     "iopub.status.busy": "2022-04-03T03:58:14.907677Z",
     "iopub.status.idle": "2022-04-03T03:58:15.664602Z",
     "shell.execute_reply": "2022-04-03T03:58:15.662965Z",
     "shell.execute_reply.started": "2022-04-03T03:58:14.907955Z"
    }
   },
   "outputs": [],
   "source": [
    "fig, ax = plt.subplots(figsize = (20,10))\n",
    "sales_train_all_df.groupby(['Date', 'StoreType']).mean()['Sales'].unstack().plot(ax = ax)"
   ]
  },
  {
   "cell_type": "markdown",
   "metadata": {},
   "source": [
    "Type b store has the highest average sales, while type a store has the lowest average sales."
   ]
  },
  {
   "cell_type": "code",
   "execution_count": null,
   "metadata": {
    "execution": {
     "iopub.execute_input": "2022-04-03T03:58:15.666003Z",
     "iopub.status.busy": "2022-04-03T03:58:15.665752Z",
     "iopub.status.idle": "2022-04-03T03:58:32.055437Z",
     "shell.execute_reply": "2022-04-03T03:58:32.054563Z",
     "shell.execute_reply.started": "2022-04-03T03:58:15.665971Z"
    }
   },
   "outputs": [],
   "source": [
    "sns.barplot(x = 'Promo', y = 'Sales', data = sales_train_all_df).set_title('Sales with promotion')"
   ]
  },
  {
   "cell_type": "code",
   "execution_count": null,
   "metadata": {
    "execution": {
     "iopub.execute_input": "2022-04-03T03:58:32.057276Z",
     "iopub.status.busy": "2022-04-03T03:58:32.056682Z",
     "iopub.status.idle": "2022-04-03T03:58:49.021405Z",
     "shell.execute_reply": "2022-04-03T03:58:49.020452Z",
     "shell.execute_reply.started": "2022-04-03T03:58:32.057239Z"
    }
   },
   "outputs": [],
   "source": [
    "sns.barplot(x = 'Promo', y = 'Customers', data = sales_train_all_df).set_title('Customers with promotion')"
   ]
  },
  {
   "cell_type": "markdown",
   "metadata": {},
   "source": [
    "### Sales forecasts"
   ]
  },
  {
   "cell_type": "code",
   "execution_count": null,
   "metadata": {
    "_kg_hide-output": true,
    "collapsed": true,
    "execution": {
     "iopub.execute_input": "2022-04-03T03:59:48.636442Z",
     "iopub.status.busy": "2022-04-03T03:59:48.636158Z",
     "iopub.status.idle": "2022-04-03T03:59:59.200087Z",
     "shell.execute_reply": "2022-04-03T03:59:59.199248Z",
     "shell.execute_reply.started": "2022-04-03T03:59:48.636412Z"
    },
    "jupyter": {
     "outputs_hidden": true
    }
   },
   "outputs": [],
   "source": [
    "!pip install fbprophet"
   ]
  },
  {
   "cell_type": "code",
   "execution_count": null,
   "metadata": {
    "execution": {
     "iopub.execute_input": "2022-04-03T04:00:25.592186Z",
     "iopub.status.busy": "2022-04-03T04:00:25.59181Z",
     "iopub.status.idle": "2022-04-03T04:00:25.813159Z",
     "shell.execute_reply": "2022-04-03T04:00:25.812056Z",
     "shell.execute_reply.started": "2022-04-03T04:00:25.592147Z"
    }
   },
   "outputs": [],
   "source": [
    "from fbprophet import Prophet"
   ]
  },
  {
   "cell_type": "code",
   "execution_count": null,
   "metadata": {
    "execution": {
     "iopub.execute_input": "2022-04-03T04:14:12.118304Z",
     "iopub.status.busy": "2022-04-03T04:14:12.117291Z",
     "iopub.status.idle": "2022-04-03T04:14:12.125833Z",
     "shell.execute_reply": "2022-04-03T04:14:12.124966Z",
     "shell.execute_reply.started": "2022-04-03T04:14:12.118251Z"
    }
   },
   "outputs": [],
   "source": [
    "def sales_prediction(store_id, sales_df, periods):\n",
    "  sales_df = sales_df[sales_df['Store'] == store_id]\n",
    "  sales_df = sales_df[['Date', 'Sales']].rename(columns = {'Date': 'ds', 'Sales': 'y'})\n",
    "  sales_df = sales_df.sort_values(by = 'ds')\n",
    "\n",
    "  model = Prophet()\n",
    "  model.fit(sales_df)\n",
    "  future = model.make_future_dataframe(periods = periods)\n",
    "  forecast = model.predict(future)\n",
    "  figure1 = model.plot(forecast, xlabel = 'Date', ylabel = 'Sales')\n",
    "  figure2 = model.plot_components(forecast)\n",
    "\n",
    "  return sales_df, forecast"
   ]
  },
  {
   "cell_type": "code",
   "execution_count": null,
   "metadata": {
    "execution": {
     "iopub.execute_input": "2022-04-03T04:14:21.095598Z",
     "iopub.status.busy": "2022-04-03T04:14:21.09501Z",
     "iopub.status.idle": "2022-04-03T04:14:26.173926Z",
     "shell.execute_reply": "2022-04-03T04:14:26.172932Z",
     "shell.execute_reply.started": "2022-04-03T04:14:21.095548Z"
    }
   },
   "outputs": [],
   "source": [
    "df_origin, df_prediction = sales_prediction(10, sales_train_all_df, 60)"
   ]
  },
  {
   "cell_type": "code",
   "execution_count": null,
   "metadata": {
    "execution": {
     "iopub.execute_input": "2022-04-03T04:19:39.339747Z",
     "iopub.status.busy": "2022-04-03T04:19:39.339425Z",
     "iopub.status.idle": "2022-04-03T04:19:39.351298Z",
     "shell.execute_reply": "2022-04-03T04:19:39.350535Z",
     "shell.execute_reply.started": "2022-04-03T04:19:39.339713Z"
    }
   },
   "outputs": [],
   "source": [
    "df_prediction.tail(60).to_csv('submission.csv')"
   ]
  },
  {
   "cell_type": "markdown",
   "metadata": {},
   "source": [
    "### Forecasts with holidays"
   ]
  },
  {
   "cell_type": "code",
   "execution_count": null,
   "metadata": {
    "execution": {
     "iopub.execute_input": "2022-04-03T04:20:48.539782Z",
     "iopub.status.busy": "2022-04-03T04:20:48.539274Z",
     "iopub.status.idle": "2022-04-03T04:20:48.546413Z",
     "shell.execute_reply": "2022-04-03T04:20:48.545583Z",
     "shell.execute_reply.started": "2022-04-03T04:20:48.539748Z"
    }
   },
   "outputs": [],
   "source": [
    "def sales_prediction(store_id, sales_df, holidays, periods):\n",
    "  sales_df = sales_df[sales_df['Store'] == store_id]\n",
    "  sales_df = sales_df[['Date', 'Sales']].rename(columns = {'Date': 'ds', 'Sales': 'y'})\n",
    "  sales_df = sales_df.sort_values(by = 'ds')\n",
    "\n",
    "  model = Prophet(holidays=holidays)\n",
    "  model.fit(sales_df)\n",
    "  future = model.make_future_dataframe(periods = periods)\n",
    "  forecast = model.predict(future)\n",
    "  figure1 = model.plot(forecast, xlabel = 'Date', ylabel = 'Sales')\n",
    "  figure2 = model.plot_components(forecast)\n",
    "\n",
    "  return sales_df, forecast"
   ]
  },
  {
   "cell_type": "code",
   "execution_count": null,
   "metadata": {
    "execution": {
     "iopub.execute_input": "2022-04-03T04:21:07.782283Z",
     "iopub.status.busy": "2022-04-03T04:21:07.781932Z",
     "iopub.status.idle": "2022-04-03T04:21:07.806279Z",
     "shell.execute_reply": "2022-04-03T04:21:07.805559Z",
     "shell.execute_reply.started": "2022-04-03T04:21:07.782248Z"
    }
   },
   "outputs": [],
   "source": [
    "sales_train_all_df.head()"
   ]
  },
  {
   "cell_type": "code",
   "execution_count": null,
   "metadata": {
    "execution": {
     "iopub.execute_input": "2022-04-03T04:21:30.133049Z",
     "iopub.status.busy": "2022-04-03T04:21:30.132483Z",
     "iopub.status.idle": "2022-04-03T04:21:30.178772Z",
     "shell.execute_reply": "2022-04-03T04:21:30.178058Z",
     "shell.execute_reply.started": "2022-04-03T04:21:30.132992Z"
    }
   },
   "outputs": [],
   "source": [
    "school_holidays = sales_train_all_df[sales_train_all_df['SchoolHoliday'] == 1].loc[:, 'Date'].values\n",
    "school_holidays.shape"
   ]
  },
  {
   "cell_type": "code",
   "execution_count": null,
   "metadata": {
    "execution": {
     "iopub.execute_input": "2022-04-03T04:21:47.226691Z",
     "iopub.status.busy": "2022-04-03T04:21:47.226138Z",
     "iopub.status.idle": "2022-04-03T04:21:47.635368Z",
     "shell.execute_reply": "2022-04-03T04:21:47.634582Z",
     "shell.execute_reply.started": "2022-04-03T04:21:47.22663Z"
    }
   },
   "outputs": [],
   "source": [
    "state_holidays = sales_train_all_df[(sales_train_all_df['StateHoliday'] == 'a') | \n",
    "                                    (sales_train_all_df['StateHoliday'] == 'b') |\n",
    "                                    (sales_train_all_df['StateHoliday'] == 'c')].loc[:,'Date'].values"
   ]
  },
  {
   "cell_type": "code",
   "execution_count": null,
   "metadata": {
    "execution": {
     "iopub.execute_input": "2022-04-03T04:22:17.327541Z",
     "iopub.status.busy": "2022-04-03T04:22:17.327097Z",
     "iopub.status.idle": "2022-04-03T04:22:17.350122Z",
     "shell.execute_reply": "2022-04-03T04:22:17.348973Z",
     "shell.execute_reply.started": "2022-04-03T04:22:17.327474Z"
    }
   },
   "outputs": [],
   "source": [
    "state_holidays = pd.DataFrame({'ds': pd.to_datetime(state_holidays),\n",
    "                               'holiday': 'state_holiday'})\n",
    "state_holidays"
   ]
  },
  {
   "cell_type": "code",
   "execution_count": null,
   "metadata": {
    "execution": {
     "iopub.execute_input": "2022-04-03T04:22:32.045821Z",
     "iopub.status.busy": "2022-04-03T04:22:32.045489Z",
     "iopub.status.idle": "2022-04-03T04:22:32.093507Z",
     "shell.execute_reply": "2022-04-03T04:22:32.092344Z",
     "shell.execute_reply.started": "2022-04-03T04:22:32.045788Z"
    }
   },
   "outputs": [],
   "source": [
    "school_holidays = pd.DataFrame({'ds': pd.to_datetime(school_holidays),\n",
    "                               'holiday': 'school_holiday'})\n",
    "school_holidays"
   ]
  },
  {
   "cell_type": "code",
   "execution_count": null,
   "metadata": {
    "execution": {
     "iopub.execute_input": "2022-04-03T04:22:46.248862Z",
     "iopub.status.busy": "2022-04-03T04:22:46.248537Z",
     "iopub.status.idle": "2022-04-03T04:22:46.270092Z",
     "shell.execute_reply": "2022-04-03T04:22:46.268619Z",
     "shell.execute_reply.started": "2022-04-03T04:22:46.248828Z"
    }
   },
   "outputs": [],
   "source": [
    "school_state_holidays = pd.concat((state_holidays, school_holidays))\n",
    "school_state_holidays"
   ]
  },
  {
   "cell_type": "code",
   "execution_count": null,
   "metadata": {
    "execution": {
     "iopub.execute_input": "2022-04-03T04:27:34.727281Z",
     "iopub.status.busy": "2022-04-03T04:27:34.726905Z",
     "iopub.status.idle": "2022-04-03T04:33:00.823414Z",
     "shell.execute_reply": "2022-04-03T04:33:00.822551Z",
     "shell.execute_reply.started": "2022-04-03T04:27:34.727241Z"
    }
   },
   "outputs": [],
   "source": [
    "df_original, df_prediction = sales_prediction(10, sales_train_all_df, school_state_holidays, 10)"
   ]
  },
  {
   "cell_type": "code",
   "execution_count": null,
   "metadata": {
    "execution": {
     "iopub.execute_input": "2022-04-03T04:33:39.008459Z",
     "iopub.status.busy": "2022-04-03T04:33:39.007869Z",
     "iopub.status.idle": "2022-04-03T04:33:39.015936Z",
     "shell.execute_reply": "2022-04-03T04:33:39.014924Z",
     "shell.execute_reply.started": "2022-04-03T04:33:39.00842Z"
    }
   },
   "outputs": [],
   "source": [
    "df_prediction.tail(10).to_csv('submission_2.csv')"
   ]
  },
  {
   "cell_type": "code",
   "execution_count": null,
   "metadata": {},
   "outputs": [],
   "source": []
  }
 ],
 "metadata": {
  "kernelspec": {
   "display_name": "Python 3",
   "language": "python",
   "name": "python3"
  },
  "language_info": {
   "codemirror_mode": {
    "name": "ipython",
    "version": 3
   },
   "file_extension": ".py",
   "mimetype": "text/x-python",
   "name": "python",
   "nbconvert_exporter": "python",
   "pygments_lexer": "ipython3",
   "version": "3.6.4"
  }
 },
 "nbformat": 4,
 "nbformat_minor": 4
}
